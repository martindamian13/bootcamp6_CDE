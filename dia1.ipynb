{
 "cells": [
  {
   "attachments": {},
   "cell_type": "markdown",
   "metadata": {},
   "source": [
    "# Dia 1"
   ]
  },
  {
   "cell_type": "code",
   "execution_count": 1,
   "metadata": {},
   "outputs": [
    {
     "name": "stdout",
     "output_type": "stream",
     "text": [
      "Hola mundo\n"
     ]
    }
   ],
   "source": [
    "# Primer linea de codigo\n",
    "print(\"Hola mundo\")"
   ]
  },
  {
   "attachments": {},
   "cell_type": "markdown",
   "metadata": {},
   "source": [
    "## Variables"
   ]
  },
  {
   "cell_type": "code",
   "execution_count": 13,
   "metadata": {},
   "outputs": [
    {
     "name": "stdout",
     "output_type": "stream",
     "text": [
      "Damian Quintana Nüñez\n"
     ]
    }
   ],
   "source": [
    "# Crear variables usando la convencion \"snake_case\"\n",
    "nombre_y_apellido = \"Damian Quintana Nüñez\"\n",
    "print(nombre_y_apellido)"
   ]
  },
  {
   "cell_type": "code",
   "execution_count": 17,
   "metadata": {},
   "outputs": [
    {
     "name": "stdout",
     "output_type": "stream",
     "text": [
      "Manzana\n",
      "6\n",
      "Banana\n",
      "Manzana\n"
     ]
    }
   ],
   "source": [
    "# Creamos una variable\n",
    "fruta_1 = \"Manzana\"\n",
    "print(fruta_1) # Imprimimos la variable creada\n",
    "\n",
    "cantidad_fruta = 6 # Creamos otra variable\n",
    "print(cantidad_fruta) # Imprimimos la variable\n",
    "\n",
    "fruta_2 = \"Banana\" # Creamos una tercera variable con nombre distinto a la primera variable\n",
    "print(fruta_2)\n",
    "print(fruta_1)\n"
   ]
  },
  {
   "attachments": {},
   "cell_type": "markdown",
   "metadata": {},
   "source": [
    "### Tipos de datos"
   ]
  },
  {
   "cell_type": "code",
   "execution_count": 25,
   "metadata": {},
   "outputs": [
    {
     "name": "stdout",
     "output_type": "stream",
     "text": [
      "Hola, que tal? como estas?\n",
      "<class 'int'>\n",
      "<class 'float'>\n",
      "<class 'bool'>\n"
     ]
    }
   ],
   "source": [
    "# Cadena de caracteres -> Texto -> String -> str\n",
    "texto = \"Hola, que tal? como estas?\"\n",
    "print(texto)\n",
    "\n",
    "# Numero\n",
    "# Numero entero -> Integer -> int\n",
    "numero = 56\n",
    "print(type(numero))  # Imprime el tipo de dato de la varible numero\n",
    "\n",
    "# Numero decimal -> Floating Number -> float\n",
    "pi = 3.1415\n",
    "print(type(pi))\n",
    "\n",
    "# Booleano -> bool\n",
    "esta_abierto = True \n",
    "esta_abierto = False\n",
    "print(type(esta_abierto))"
   ]
  },
  {
   "attachments": {},
   "cell_type": "markdown",
   "metadata": {},
   "source": [
    "## Operaciones matematicas"
   ]
  },
  {
   "cell_type": "code",
   "execution_count": 37,
   "metadata": {},
   "outputs": [
    {
     "name": "stdout",
     "output_type": "stream",
     "text": [
      "12\n",
      "-4\n",
      "15\n",
      "4.5\n"
     ]
    }
   ],
   "source": [
    "# Suma \n",
    "suma = 5 + 7\n",
    "print(suma)\n",
    "\n",
    "# Resta\n",
    "resta = 8 - 12\n",
    "print(resta)\n",
    "\n",
    "# Multiplicacion\n",
    "multi = 3 * 5\n",
    "print(multi)\n",
    "\n",
    "# Division\n",
    "division = 9 / 2\n",
    "print(division)"
   ]
  },
  {
   "cell_type": "code",
   "execution_count": 45,
   "metadata": {},
   "outputs": [
    {
     "name": "stdout",
     "output_type": "stream",
     "text": [
      "10.5\n"
     ]
    }
   ],
   "source": [
    "# Creamos variables numericas\n",
    "cantidad_manzanas = 6.5\n",
    "cantidad_peras = 4\n",
    "\n",
    "cantidad_total_frutas = cantidad_manzanas + cantidad_peras\n",
    "\n",
    "print(cantidad_total_frutas)"
   ]
  },
  {
   "attachments": {},
   "cell_type": "markdown",
   "metadata": {},
   "source": [
    "# Challenge 🤺 - 15min\n",
    "Suma: asignar dos números en dos variables diferentes cantidad_de_manzanas y cantidad_de_naranjas. Luego sumar ambas variables en cantidad_de_frutas. Imprimir la última variable.\n",
    "\n",
    "Resta: asignar un valor numérico a la variable frutas_vendidas. Luego, asignar la resta entre cantidad_de_frutas y frutas_vendidas a la variable frutas_restantes. Imprimir la última variable."
   ]
  },
  {
   "attachments": {},
   "cell_type": "markdown",
   "metadata": {},
   "source": [
    "# Solucion de Pai 🐧"
   ]
  },
  {
   "cell_type": "code",
   "execution_count": 46,
   "metadata": {},
   "outputs": [
    {
     "name": "stdout",
     "output_type": "stream",
     "text": [
      "Frutas totales 200\n",
      "Frutas vendidas 50\n",
      "Frutas restantes 150\n"
     ]
    }
   ],
   "source": [
    "cantidad_de_manzanas = 100\n",
    "cantidad_de_naranjas = 100\n",
    "cantidad_de_frutas = cantidad_de_manzanas + cantidad_de_naranjas\n",
    "print(\"Frutas totales\",cantidad_de_frutas)\n",
    "frutas_vendidas = 50\n",
    "frutas_restantes = cantidad_de_frutas - frutas_vendidas\n",
    "print(\"Frutas vendidas\",frutas_vendidas)\n",
    "print(\"Frutas restantes\",frutas_restantes)\n"
   ]
  },
  {
   "attachments": {},
   "cell_type": "markdown",
   "metadata": {},
   "source": [
    "# Solucion de Jaz 🐞"
   ]
  },
  {
   "cell_type": "code",
   "execution_count": 47,
   "metadata": {},
   "outputs": [
    {
     "name": "stdout",
     "output_type": "stream",
     "text": [
      "145\n",
      "88\n"
     ]
    }
   ],
   "source": [
    "#Suma\n",
    "cantidad_de_manzanas = 64\n",
    "cantidad_de_naranjas = 81\n",
    "cantidad_de_frutas = cantidad_de_manzanas + cantidad_de_naranjas\n",
    "print(cantidad_de_frutas)\n",
    "\n",
    "#Resta \n",
    "frutas_vendidas = 57\n",
    "frutas_restantes = cantidad_de_frutas - frutas_vendidas\n",
    "print(frutas_restantes)"
   ]
  },
  {
   "attachments": {},
   "cell_type": "markdown",
   "metadata": {},
   "source": [
    "## Jugando con texto"
   ]
  },
  {
   "cell_type": "code",
   "execution_count": 59,
   "metadata": {},
   "outputs": [
    {
     "name": "stdout",
     "output_type": "stream",
     "text": [
      "Damian Quintana\n",
      "Damian Quintana\n",
      "Hola, mi nombre es Damian y mi apelldio es Quintana\n"
     ]
    }
   ],
   "source": [
    "nombre = \"Damian\"\n",
    "apellido = \"Quintana\"\n",
    "\n",
    "print(nombre, apellido)\n",
    "\n",
    "# Concatenacion \n",
    "print(nombre + \" \" +  apellido)\n",
    "\n",
    "print(f\"Hola, mi nombre es {nombre} y mi apelldio es {apellido}\")"
   ]
  },
  {
   "attachments": {},
   "cell_type": "markdown",
   "metadata": {},
   "source": [
    "## Challenge 🤺 - 15m\n",
    "\n",
    "Asignar el nombre y el apellido de tu compañero/a a las variables nombre y apellido. Luego, imprimir una frase, utilizando las variables.\n",
    "EJEMPLO: \"Hola. Me llamo Martin Quintana. Mucho gusto.\""
   ]
  },
  {
   "attachments": {},
   "cell_type": "markdown",
   "metadata": {},
   "source": [
    "# Solucion de Mateo 🤓"
   ]
  },
  {
   "cell_type": "code",
   "execution_count": 66,
   "metadata": {},
   "outputs": [
    {
     "name": "stdout",
     "output_type": "stream",
     "text": [
      "Hola mi nombre es Dolly y mi apellido es Leiva, muchisimo gusto!\n",
      "Hola mi nombre es Dolly y mi apellido es Leiva muchisimo gusto!\n"
     ]
    }
   ],
   "source": [
    "nombre = \"Dolly\"\n",
    "apellido = \"Leiva\"\n",
    "\n",
    "# Utilizando formato\n",
    "print(f\"Hola mi nombre es {nombre} y mi apellido es {apellido}, muchisimo gusto!\")\n",
    "# Sin utilizar formato\n",
    "print(\"Hola mi nombre es\", nombre, \"y mi apellido es\", apellido, \"muchisimo gusto!\")"
   ]
  },
  {
   "attachments": {},
   "cell_type": "markdown",
   "metadata": {},
   "source": [
    "# Solucion de Fernando 🦇"
   ]
  },
  {
   "cell_type": "code",
   "execution_count": 64,
   "metadata": {},
   "outputs": [
    {
     "name": "stdout",
     "output_type": "stream",
     "text": [
      "Hola, me llamo Franco y mi apellido es Boggiano. Mucho gusto.\n"
     ]
    }
   ],
   "source": [
    "nombre = \"Franco\"\n",
    "apellido = \"Boggiano\"\n",
    "print (f\"Hola, me llamo {nombre} y mi apellido es {apellido}. Mucho gusto.\")"
   ]
  },
  {
   "cell_type": "code",
   "execution_count": 68,
   "metadata": {},
   "outputs": [
    {
     "name": "stdout",
     "output_type": "stream",
     "text": [
      "5 + 7\n"
     ]
    }
   ],
   "source": [
    "numero1 = 5\n",
    "numero2 = 7\n",
    "\n",
    "print(f\"{numero1} + {numero2}\")"
   ]
  },
  {
   "cell_type": "code",
   "execution_count": 72,
   "metadata": {},
   "outputs": [
    {
     "name": "stdout",
     "output_type": "stream",
     "text": [
      "Me llamo Martin y tengo 24 años\n"
     ]
    }
   ],
   "source": [
    "nombre = \"Martin\"\n",
    "edad = 24\n",
    "\n",
    "print(f\"Me llamo {nombre} y tengo {edad} años\")"
   ]
  },
  {
   "cell_type": "code",
   "execution_count": 75,
   "metadata": {},
   "outputs": [
    {
     "name": "stdout",
     "output_type": "stream",
     "text": [
      "Hola que tal como estas\n"
     ]
    }
   ],
   "source": [
    "nombre = input(\"Ingresa un nombre \")\n",
    "print(nombre)"
   ]
  },
  {
   "cell_type": "code",
   "execution_count": 77,
   "metadata": {},
   "outputs": [
    {
     "name": "stdout",
     "output_type": "stream",
     "text": [
      "Hola, me llamo Damian y mi apellido es Benitez. Mucho gusto.\n"
     ]
    }
   ],
   "source": [
    "nombre = input(\"Ingresa un nombre\")\n",
    "apellido = input(\"Ingresa un apellido\")\n",
    "print (f\"Hola, me llamo {nombre} y mi apellido es {apellido}. Mucho gusto.\")"
   ]
  },
  {
   "cell_type": "code",
   "execution_count": 85,
   "metadata": {},
   "outputs": [
    {
     "name": "stdout",
     "output_type": "stream",
     "text": [
      "15\n"
     ]
    }
   ],
   "source": [
    "# Calculadora que sume dos numeros\n",
    "numero1 = int(input(\"Ingrese el primer numero\"))\n",
    "numero2 = int(input(\"Ingrese el segundo numero\"))\n",
    "\n",
    "resultado = numero1 + numero2\n",
    "print(resultado)"
   ]
  },
  {
   "attachments": {},
   "cell_type": "markdown",
   "metadata": {},
   "source": [
    "## Challenge 🤺 - 10m\n",
    "\n",
    "Solicitar al usuario ingresar dos números y almacenarlos en dos variables distintas. Luego, imprimir la resta de los dos números."
   ]
  },
  {
   "attachments": {},
   "cell_type": "markdown",
   "metadata": {},
   "source": [
    "# Solucion de David 🎱"
   ]
  },
  {
   "cell_type": "code",
   "execution_count": 86,
   "metadata": {},
   "outputs": [
    {
     "name": "stdout",
     "output_type": "stream",
     "text": [
      "TIENES 41 año DE EXPERIENCIA EN PYTHON\n"
     ]
    }
   ],
   "source": [
    "numero1 = int(input(\"ingrese su edad\"))\n",
    "numero2 = int(input(\"ingrese su año de experiencia en python\"))\n",
    "\n",
    "resultado = numero2 - numero1\n",
    "print(\"TIENES\", numero1 - numero2, \"año DE EXPERIENCIA EN PYTHON\")"
   ]
  },
  {
   "attachments": {},
   "cell_type": "markdown",
   "metadata": {},
   "source": [
    "# Solucion de Jose 👻"
   ]
  },
  {
   "cell_type": "code",
   "execution_count": 88,
   "metadata": {},
   "outputs": [
    {
     "name": "stdout",
     "output_type": "stream",
     "text": [
      "El resultado de tu suma es -3\n",
      "\n",
      "─▄█▌──▄█▌──▄█▌──▄█▌───\n",
      "──░░▌──░░▌──░░▌──░░▌──\n",
      "──░░█──░░█──░░█──░░█──\n",
      "──░░█──░░█──░░█──░░█──\n",
      "──▄▌▐──▄▌▐──▄▌▐──▄▌▐──\n"
     ]
    }
   ],
   "source": [
    "numero1 = int(input(\"¡Hola pingüino! Por favor, ingrese un número para sumarlo\"))\n",
    "numero2 = int(input(\"¡Perfecto! Ahora ingrese el segundo número para sumarlo\"))\n",
    "\n",
    "resultado = numero1 + numero2\n",
    "print(\"El resultado de tu suma es\", resultado)\n",
    "print()\n",
    "print(\"─▄█▌──▄█▌──▄█▌──▄█▌───\")\n",
    "print(\"──░░▌──░░▌──░░▌──░░▌──\")\n",
    "print(\"──░░█──░░█──░░█──░░█──\")\n",
    "print(\"──░░█──░░█──░░█──░░█──\")\n",
    "print(\"──▄▌▐──▄▌▐──▄▌▐──▄▌▐──\")"
   ]
  },
  {
   "attachments": {},
   "cell_type": "markdown",
   "metadata": {},
   "source": [
    "# Funciones"
   ]
  },
  {
   "cell_type": "code",
   "execution_count": 106,
   "metadata": {},
   "outputs": [
    {
     "name": "stdout",
     "output_type": "stream",
     "text": [
      "Hola que tal\n",
      "Todo bien kp\n",
      "Hola\n",
      "Hello\n",
      "Oi\n",
      "Hallo\n"
     ]
    }
   ],
   "source": [
    "# Creamos una funcion, con dos prints\n",
    "def saludar():\n",
    "    print(\"Hola que tal\")\n",
    "    print(\"Todo bien kp\")\n",
    "\n",
    "# Cramos otra funcion con mas lineas de codigo\n",
    "def saludar_en_idiomas():\n",
    "    print(\"Hola\")\n",
    "    print(\"Hello\")\n",
    "    print(\"Oi\")\n",
    "    print(\"Hallo\")\n",
    "\n",
    "\n",
    "\n",
    "saludar()\n",
    "saludar_en_idiomas()\n"
   ]
  },
  {
   "attachments": {},
   "cell_type": "markdown",
   "metadata": {},
   "source": [
    "## Challenge 🤺 - 10min\n",
    "\n",
    "Crear una función de un proceso que se les ocurra que tenga varios pasos.\n",
    "Ejecutar la función 3 veces."
   ]
  },
  {
   "attachments": {},
   "cell_type": "markdown",
   "metadata": {},
   "source": [
    "# Solucion de Nando 🔬"
   ]
  },
  {
   "cell_type": "code",
   "execution_count": 107,
   "metadata": {},
   "outputs": [
    {
     "name": "stdout",
     "output_type": "stream",
     "text": [
      "10\n",
      "11\n",
      "la resta es:  -1\n",
      "15\n",
      "4\n",
      "la resta es:  11\n",
      "20\n",
      "1\n",
      "la resta es:  19\n"
     ]
    }
   ],
   "source": [
    "def resta():\n",
    "    primer_numero = int(input(\"Ingresa el primer número\"))\n",
    "    print(primer_numero)\n",
    "    segundo_numero = int(input(f\"Ingresa el segundo número {nombre}\"))\n",
    "    print(segundo_numero)\n",
    "    print(\"la resta es: \", primer_numero - segundo_numero)\n",
    "\n",
    "resta() \n",
    "resta() \n",
    "resta()"
   ]
  },
  {
   "attachments": {},
   "cell_type": "markdown",
   "metadata": {},
   "source": [
    "# Solucion de Franco 😴"
   ]
  },
  {
   "cell_type": "code",
   "execution_count": 108,
   "metadata": {},
   "outputs": [
    {
     "name": "stdout",
     "output_type": "stream",
     "text": [
      "instrucciones para dormir rapido\n",
      "primer paso - aprender python por 18 hs seguidas\n",
      "segundo paso - tomar una ducha de agua fria\n",
      "tercer paso - volver a repasar python\n",
      "cuarto paso - acostarse en la cama\n",
      "quinto paso -volver a repasar python\n",
      "sexto paso - mimir\n",
      "septimo paso - sonhar con python\n",
      " \n",
      "instrucciones para dormir rapido\n",
      "primer paso - aprender python por 18 hs seguidas\n",
      "segundo paso - tomar una ducha de agua fria\n",
      "tercer paso - volver a repasar python\n",
      "cuarto paso - acostarse en la cama\n",
      "quinto paso -volver a repasar python\n",
      "sexto paso - mimir\n",
      "septimo paso - sonhar con python\n",
      " \n",
      "instrucciones para dormir rapido\n",
      "primer paso - aprender python por 18 hs seguidas\n",
      "segundo paso - tomar una ducha de agua fria\n",
      "tercer paso - volver a repasar python\n",
      "cuarto paso - acostarse en la cama\n",
      "quinto paso -volver a repasar python\n",
      "sexto paso - mimir\n",
      "septimo paso - sonhar con python\n",
      " \n"
     ]
    }
   ],
   "source": [
    "def dormir_rapido(): #declarar la funcion a realizar\n",
    "    print(\"instrucciones para dormir rapido\")\n",
    "    print(\"primer paso - aprender python por 18 hs seguidas\")\n",
    "    print(\"segundo paso - tomar una ducha de agua fria\")\n",
    "    print(\"tercer paso - volver a repasar python\")\n",
    "    print(\"cuarto paso - acostarse en la cama\")\n",
    "    print(\"quinto paso -volver a repasar python\")\n",
    "    print(\"sexto paso - mimir\")\n",
    "    print(\"septimo paso - sonhar con python\")\n",
    "    print(\" \")\n",
    "\n",
    "dormir_rapido() #repetir las funciones 3 veces\n",
    "dormir_rapido()\n",
    "dormir_rapido()"
   ]
  },
  {
   "attachments": {},
   "cell_type": "markdown",
   "metadata": {},
   "source": [
    "# Scope (Alcance de las variables)"
   ]
  },
  {
   "cell_type": "code",
   "execution_count": 112,
   "metadata": {},
   "outputs": [
    {
     "name": "stdout",
     "output_type": "stream",
     "text": [
      "la resta es:  3\n",
      "5\n"
     ]
    }
   ],
   "source": [
    "# El alcance de una variable puede ser local o global\n",
    "def resta():\n",
    "    # Al no usar parametros utilizamos las variables globales\n",
    "    print(\"la resta es: \", primer_numero - segundo_numero)\n",
    "\n",
    "\n",
    "primer_numero = int(input(\"Ingresa el primer número\"))\n",
    "segundo_numero = int(input(f\"Ingresa el segundo número {nombre}\"))\n",
    "\n",
    "resta()\n",
    "\n",
    "print(primer_numero)"
   ]
  },
  {
   "attachments": {},
   "cell_type": "markdown",
   "metadata": {},
   "source": [
    "#  Parametros y Argumentos"
   ]
  },
  {
   "cell_type": "code",
   "execution_count": 122,
   "metadata": {},
   "outputs": [
    {
     "name": "stdout",
     "output_type": "stream",
     "text": [
      "10\n",
      "9\n"
     ]
    }
   ],
   "source": [
    "def sumar(numero1, numero2):\n",
    "    # Al crear una variable dentro de la funcion se considera como variable local (existe solo dentro de la funcion)\n",
    "    resultado = numero1 + numero2\n",
    "    print(resultado)\n",
    "\n",
    "numero1 = 9\n",
    "numero2 = 4\n",
    "sumar(5, 3)\n",
    "print(numero1)"
   ]
  },
  {
   "cell_type": "code",
   "execution_count": 124,
   "metadata": {},
   "outputs": [
    {
     "name": "stdout",
     "output_type": "stream",
     "text": [
      "53\n"
     ]
    }
   ],
   "source": [
    "# Podemos crear parametro para enviar datos globales a la funcion y que se conviertan en variables locales (No alteran el valor de la variable global)\n",
    "def sumar(numero1, numero2):\n",
    "    resultado = numero1 + numero2\n",
    "    print(resultado)\n",
    "\n",
    "sumar(\"5\",\"3\")\n"
   ]
  },
  {
   "cell_type": "code",
   "execution_count": 126,
   "metadata": {},
   "outputs": [
    {
     "name": "stdout",
     "output_type": "stream",
     "text": [
      "vendi un Kia, de color Gris del año 2005\n",
      "vendi un Mercho, de color Rojo del año 1998\n"
     ]
    }
   ],
   "source": [
    "def vender_auto(marca, color, anho):\n",
    "    print(f\"vendi un {marca}, de color {color} del año {anho}\")\n",
    "\n",
    "vender_auto(\"Kia\", \"Gris\", 2005)\n",
    "vender_auto(\"Mercho\", \"Rojo\", 1998)"
   ]
  },
  {
   "attachments": {},
   "cell_type": "markdown",
   "metadata": {},
   "source": [
    "## Challenge 🤺 - 15m\n",
    "\n",
    "Dada la función que acabamos de crear, definir un parametro mas sobre el auto que quiere vender y concatenar."
   ]
  },
  {
   "attachments": {},
   "cell_type": "markdown",
   "metadata": {},
   "source": [
    "# Solucion de Liz ⭐️"
   ]
  },
  {
   "cell_type": "code",
   "execution_count": 127,
   "metadata": {},
   "outputs": [
    {
     "name": "stdout",
     "output_type": "stream",
     "text": [
      "Vendi mi auto de la marca Kia, color Azul, año 2023, y es de caja Automàtica\n",
      "\n",
      "Vendi mi auto de la marca Toyota, color Rojo, año 2024, y es de caja Mecànica\n",
      "\n"
     ]
    }
   ],
   "source": [
    "def vender_auto(marca, color, año, tipo_de_caja):\n",
    "    print(f\"Vendi mi auto de la marca {marca}, color {color}, año {año}, y es de caja {tipo_de_caja}\")\n",
    "    print()\n",
    "\n",
    "vender_auto(\"Kia\", \"Azul\", 2023, \"Automàtica\")\n",
    "vender_auto(\"Toyota\", \"Rojo\", 2024, \"Mecànica\")"
   ]
  },
  {
   "attachments": {},
   "cell_type": "markdown",
   "metadata": {},
   "source": [
    "# Solucion de Sandra 🍃"
   ]
  },
  {
   "cell_type": "code",
   "execution_count": 128,
   "metadata": {},
   "outputs": [
    {
     "name": "stdout",
     "output_type": "stream",
     "text": [
      "Vendo un Toyota de color blanco, del anho 2020, tipo de caja automatica\n"
     ]
    }
   ],
   "source": [
    "def vender_auto(marca, color, anho, caja):\n",
    "    print(f\"Vendo un {marca} de color {color}, del anho {anho}, tipo de caja {caja}\")\n",
    "\n",
    "vender_auto(\"Toyota\", \"blanco\", 2020, \"automatica\")"
   ]
  },
  {
   "attachments": {},
   "cell_type": "markdown",
   "metadata": {},
   "source": [
    "## Challenge 🤺 - 15min\n",
    "\n",
    "Crear las funciones basicas de una calculadora (suma, resta, multiplicacion y division), luego pedir al usuario por dos numeros, hacer los calculos usando ambos numeros. "
   ]
  },
  {
   "attachments": {},
   "cell_type": "markdown",
   "metadata": {},
   "source": [
    "# Solucion de Cesar ☀️"
   ]
  },
  {
   "cell_type": "code",
   "execution_count": 129,
   "metadata": {},
   "outputs": [
    {
     "name": "stdout",
     "output_type": "stream",
     "text": [
      "la suma es 15\n",
      "\n",
      "la resta es -5\n",
      "\n",
      "la multiplicacion es 50\n",
      "\n",
      "la division es 0\n",
      "\n"
     ]
    }
   ],
   "source": [
    "def suma(num1,num2):\n",
    "    resultado= num1 + num2\n",
    "    print(f\"la suma es {resultado}\")\n",
    "    print()\n",
    "\n",
    "def resta(num1,num2):\n",
    "    resultado= num1 - num2\n",
    "    print(f\"la resta es {resultado}\")\n",
    "    print()\n",
    "\n",
    "def multiplicacion(num1,num2):\n",
    "    resultado= num1 * num2\n",
    "    print(f\"la multiplicacion es {resultado}\")\n",
    "    print()\n",
    "\n",
    "def division(num1,num2):\n",
    "    resultado= num1 // num2\n",
    "    print(f\"la division es {resultado}\")\n",
    "    print()\n",
    "\n",
    "num1 = int(input(\"Ingrese el primer numero\"))\n",
    "num2 = int(input(\"Ingrese el segundo numero\"))\n",
    "\n",
    "suma(num1,num2)\n",
    "resta(num1,num2)\n",
    "multiplicacion(num1,num2)\n",
    "division(num1,num2)"
   ]
  },
  {
   "attachments": {},
   "cell_type": "markdown",
   "metadata": {},
   "source": [
    "# Solucion de Leila 🌙"
   ]
  },
  {
   "cell_type": "code",
   "execution_count": 131,
   "metadata": {},
   "outputs": [
    {
     "name": "stdout",
     "output_type": "stream",
     "text": [
      "El primer numero es: 50\n",
      "El segundo numero es: 9\n",
      "\n",
      "La suma de ambos numeros es: 59\n",
      "\n",
      "La resta de ambos numeros es: 41\n",
      "\n",
      "La multiplicacion de ambos numeros es: 450\n",
      "\n",
      "La division de ambos numeros es: 6\n",
      "\n"
     ]
    }
   ],
   "source": [
    "def suma(nro1, nro2):\n",
    "    print(\"La suma de ambos numeros es:\", nro1 + nro2)\n",
    "    print()\n",
    "\n",
    "def resta(nro1, nro2):\n",
    "    print(\"La resta de ambos numeros es:\", nro1 - nro2)\n",
    "    print()\n",
    "\n",
    "def multiplicacion(nro1, nro2):\n",
    "    print(\"La multiplicacion de ambos numeros es:\", nro1 * nro2)\n",
    "    print()\n",
    "\n",
    "def division(nro1, nro2):\n",
    "    print(\"La division de ambos numeros es:\", nro1 / nro2)\n",
    "    print()\n",
    "\n",
    "nro1 = int(input(\"Ingresa el primer numero\"))\n",
    "nro2 = int(input(\"Ingresa el segundo numero\"))\n",
    "\n",
    "print(\"El primer numero es:\", nro1)\n",
    "print(\"El segundo numero es:\", nro2)\n",
    "print( )\n",
    "suma(nro1,nro2)\n",
    "resta(nro1,nro2)\n",
    "multiplicacion(nro1,nro2)\n",
    "division(nro1,nro2)"
   ]
  }
 ],
 "metadata": {
  "kernelspec": {
   "display_name": "Python 3",
   "language": "python",
   "name": "python3"
  },
  "language_info": {
   "codemirror_mode": {
    "name": "ipython",
    "version": 3
   },
   "file_extension": ".py",
   "mimetype": "text/x-python",
   "name": "python",
   "nbconvert_exporter": "python",
   "pygments_lexer": "ipython3",
   "version": "3.11.3"
  },
  "orig_nbformat": 4
 },
 "nbformat": 4,
 "nbformat_minor": 2
}
