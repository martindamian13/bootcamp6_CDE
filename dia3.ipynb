{
 "cells": [
  {
   "attachments": {},
   "cell_type": "markdown",
   "metadata": {},
   "source": [
    "# Dia 3"
   ]
  },
  {
   "cell_type": "markdown",
   "metadata": {},
   "source": [
    "## Funciones"
   ]
  },
  {
   "cell_type": "code",
   "execution_count": 4,
   "metadata": {},
   "outputs": [
    {
     "name": "stdout",
     "output_type": "stream",
     "text": [
      "Buenos dias\n",
      "Buenos dias\n",
      "Buenos dias\n"
     ]
    }
   ],
   "source": [
    "# Funciones \n",
    "\n",
    "# usamos def para crear una funcion y luego ponemos el nombre de la funcion.\n",
    "def imprimir_saludo():\n",
    "    # Despues del identado escribimos las lineas de codigo\n",
    "    print(\"Buenos dias\")\n",
    "\n",
    "\n",
    "# Iteramos varias veces y llamamos a la funcion\n",
    "for iterador in range(3):\n",
    "    imprimir_saludo()\n",
    "\n",
    "\n"
   ]
  },
  {
   "cell_type": "markdown",
   "metadata": {},
   "source": [
    "## Parametros y Argumentos"
   ]
  },
  {
   "cell_type": "code",
   "execution_count": 8,
   "metadata": {},
   "outputs": [
    {
     "name": "stdout",
     "output_type": "stream",
     "text": [
      "Buenos dias señor Damian Quintana\n"
     ]
    }
   ],
   "source": [
    "def saludar(nombre, apellido):\n",
    "    print(f\"Buenos dias señor {nombre} {apellido}\")\n",
    "\n",
    "nombre = input(\"Ingresa un nombre\")\n",
    "apellido = input(\"ingresa un apellido\")\n",
    "saludar(nombre, apellido)"
   ]
  },
  {
   "cell_type": "markdown",
   "metadata": {},
   "source": [
    "## Return"
   ]
  },
  {
   "cell_type": "code",
   "execution_count": 17,
   "metadata": {},
   "outputs": [
    {
     "name": "stdout",
     "output_type": "stream",
     "text": [
      "17\n"
     ]
    }
   ],
   "source": [
    "# return\n",
    "\n",
    "# Al crear una funcion sumamos los parametros y devolvemos esos valores\n",
    "# para posteriormente usarlos\n",
    "# Una analogia es que las funciones son como una caja y con return sacamos los datos de la caja.\n",
    "def sumar(numero1, numero2):\n",
    "    return numero1 + numero2\n",
    "\n",
    "suma1 = sumar(sumar(2,3),7)\n",
    "suma2 = sumar(2,3)\n",
    "\n",
    "\n",
    "print(suma1 + suma2)"
   ]
  },
  {
   "cell_type": "code",
   "execution_count": 22,
   "metadata": {},
   "outputs": [
    {
     "name": "stdout",
     "output_type": "stream",
     "text": [
      "17\n"
     ]
    }
   ],
   "source": [
    "saludo = \"Hola, que tal?\"\n",
    "\n",
    "lista = [4,5,6,3,4,6]\n",
    "\n",
    "cantidad_letras = len(saludo)\n",
    "\n",
    "print(cantidad_letras + 3)"
   ]
  },
  {
   "attachments": {},
   "cell_type": "markdown",
   "metadata": {},
   "source": [
    "## Challenge 🤺 - 20min\n",
    "\n",
    "Crear una función que reciba dos parámetros (una palabra y un número), y que devuelva `True` si el número es igual a la cantidad de letras de la palabra. En caso contrario, que devuelva `False`.\n",
    "\n",
    "Pista: `cantidad de letras de una palabra en python se puede obtener con len()`"
   ]
  },
  {
   "attachments": {},
   "cell_type": "markdown",
   "metadata": {},
   "source": [
    "# Solucion de David 🎱"
   ]
  },
  {
   "cell_type": "code",
   "execution_count": 31,
   "metadata": {},
   "outputs": [
    {
     "name": "stdout",
     "output_type": "stream",
     "text": [
      "True\n"
     ]
    }
   ],
   "source": [
    "recibidor_palabra = input(\"Ingrese su Palabrota\")\n",
    "recibidor_numero = int (input(\"Cantidad de veces\"))\n",
    "\n",
    "def recibir_palabra(palabra, numero) : \n",
    "    if len (palabra) == numero :\n",
    "        return True\n",
    "    else :\n",
    "        return False\n",
    "\n",
    "print(recibir_palabra (recibidor_palabra, recibidor_numero))"
   ]
  },
  {
   "attachments": {},
   "cell_type": "markdown",
   "metadata": {},
   "source": [
    "# Solucion de Fernando 🦇"
   ]
  },
  {
   "cell_type": "code",
   "execution_count": 30,
   "metadata": {},
   "outputs": [
    {
     "name": "stdout",
     "output_type": "stream",
     "text": [
      "True\n"
     ]
    }
   ],
   "source": [
    "# lo primero que se hace es definir una funcion, en este caso def, una palabra\n",
    "def largor_igual(palabra, numero):\n",
    "    #si el largor de la palabra es igual a numero devuelvo True\n",
    "    if len(palabra) == numero:\n",
    "        return True\n",
    "    #EN CUALQUEIR OTRO CASO Falso\n",
    "    else:\n",
    "        return False\n",
    " \n",
    "\n",
    "print(largor_igual(\"Hola\", 4))"
   ]
  },
  {
   "attachments": {},
   "cell_type": "markdown",
   "metadata": {},
   "source": [
    "# Solucion de Jazmin 🤍"
   ]
  },
  {
   "cell_type": "code",
   "execution_count": 36,
   "metadata": {},
   "outputs": [
    {
     "name": "stdout",
     "output_type": "stream",
     "text": [
      "chau\n"
     ]
    }
   ],
   "source": [
    "def verificador(palabra, numero):\n",
    "    return len(palabra) == numero\n",
    "\n",
    "# print(verificador(\"hola\",4))\n",
    "\n",
    "\n",
    "# Si se cumple una condicion que me imprima hola\n",
    "palabra = input(\"ingrese una palabra\")\n",
    "numero = int(input(\"ingrese un numero\"))\n",
    "\n",
    "if verificador(palabra, numero):\n",
    "    print(\"Hola\")\n",
    "else:\n",
    "    print(\"chau\")"
   ]
  },
  {
   "attachments": {},
   "cell_type": "markdown",
   "metadata": {},
   "source": [
    "## Challenge 🤺 - 20 min\n",
    "\n",
    "Crear función que revise si una palabra contiene una letra. En caso de que la contenga, retornar la letra entre corchetes `[]`. De lo contrario, retornar solo la letra. "
   ]
  },
  {
   "cell_type": "code",
   "execution_count": null,
   "metadata": {},
   "outputs": [],
   "source": [
    "# funcion (\"hola\", \"h\")\n",
    "\n",
    "# [h]"
   ]
  },
  {
   "attachments": {},
   "cell_type": "markdown",
   "metadata": {},
   "source": [
    "# Solucion de Pai 🤖"
   ]
  },
  {
   "cell_type": "code",
   "execution_count": 39,
   "metadata": {},
   "outputs": [
    {
     "name": "stdout",
     "output_type": "stream",
     "text": [
      "z\n"
     ]
    }
   ],
   "source": [
    "def buscador (letra,palabra):\n",
    "    if letra in palabra:\n",
    "        return '[' + letra + ']'\n",
    "    else:\n",
    "        return letra\n",
    "letra=input(\"Elegir letra\")\n",
    "palabra=input(\"Elegir palabra\")\n",
    "print(buscador(letra,palabra))"
   ]
  },
  {
   "attachments": {},
   "cell_type": "markdown",
   "metadata": {},
   "source": [
    "# Solucion de Jazmin ☕️"
   ]
  },
  {
   "cell_type": "code",
   "execution_count": 48,
   "metadata": {},
   "outputs": [
    {
     "name": "stdout",
     "output_type": "stream",
     "text": [
      "[a]\n"
     ]
    }
   ],
   "source": [
    "def verificador(palabra,letra):\n",
    "    if letra in palabra:\n",
    "        return f\"[{letra}]\"\n",
    "    else:\n",
    "        return letra\n",
    "\n",
    "palabra = input(\"Ingrese una palabra\")\n",
    "letra = input(\"Ingrese una letra\")\n",
    "\n",
    "print(verificador(palabra, letra))"
   ]
  },
  {
   "cell_type": "code",
   "execution_count": 60,
   "metadata": {},
   "outputs": [
    {
     "name": "stdout",
     "output_type": "stream",
     "text": [
      "['M', 'a', 'r', 't', 'i', 'n', 'Q', 'u', 'i', 'n', 't', 'a', 'n', 'a']\n"
     ]
    }
   ],
   "source": [
    "nombre = \"Martin\"\n",
    "apellido = \"Quintana\"\n",
    "\n",
    "lista_letras = list(nombre)\n",
    "lista_letras2 = list(apellido)\n",
    "\n",
    "\n",
    "print(lista_letras + lista_letras2)"
   ]
  },
  {
   "attachments": {},
   "cell_type": "markdown",
   "metadata": {},
   "source": [
    "## Challenge 5 🤺 - 20m\n",
    "\n",
    "Pedir al usuario que ingrese 1 palabra, luego convertir esa palabra a una lista con sus caracteres con `list()`. Agregar esa lista de caracteres a una lista llamada `palabras_ingresadas`. Repetir el proceso 3 veces. Cada vez que se agregue una lista de caracteres, imprimir la lista `palabras_ingresadas`.\n",
    "\n",
    "Ejemplo del resultado esperado:\n",
    "\n",
    "```[['c', 'i', 'e', 'l', 'o']]``` # Al ingresar la primera palabra\n",
    "\n",
    "```[['c', 'i', 'e', 'l', 'o'], ['c', 'a', 'l', 'o', 'r']]``` # Al ingresar la segunda palabra\n",
    "\n",
    "```[['c', 'i', 'e', 'l', 'o'], ['c', 'a', 'l', 'o', 'r'], ['n', 'u', 'b', 'e', 's']]``` # Al ingresar la tercera palabra\n"
   ]
  },
  {
   "attachments": {},
   "cell_type": "markdown",
   "metadata": {},
   "source": [
    "# Solucion de Tamara 🤟🏽"
   ]
  },
  {
   "cell_type": "code",
   "execution_count": 61,
   "metadata": {},
   "outputs": [
    {
     "name": "stdout",
     "output_type": "stream",
     "text": [
      "cielo\n",
      "['c', 'i', 'e', 'l', 'o']\n",
      "[['c', 'i', 'e', 'l', 'o']]\n",
      "calor\n",
      "['c', 'a', 'l', 'o', 'r']\n",
      "[['c', 'i', 'e', 'l', 'o'], ['c', 'a', 'l', 'o', 'r']]\n",
      "nubes\n",
      "['n', 'u', 'b', 'e', 's']\n",
      "[['c', 'i', 'e', 'l', 'o'], ['c', 'a', 'l', 'o', 'r'], ['n', 'u', 'b', 'e', 's']]\n"
     ]
    }
   ],
   "source": [
    "palabras_ingreasadas = [] #lista grande \n",
    "# con for en este caso todos los pasos se repiten 3 veces\n",
    "for  vez in range(3):\n",
    "    palabra = input(\"ingreasar palabra\")\n",
    "    print(palabra)\n",
    "    palabra_listada = list(palabra) #lista chica \n",
    "    print(palabra_listada)\n",
    "    # ahora agregar lista chica a la lista grande \n",
    "    palabras_ingreasadas.append(palabra_listada)\n",
    "    print(palabras_ingreasadas)"
   ]
  },
  {
   "attachments": {},
   "cell_type": "markdown",
   "metadata": {},
   "source": [
    "# Solucion de Sandra 🐰"
   ]
  },
  {
   "cell_type": "code",
   "execution_count": 62,
   "metadata": {},
   "outputs": [
    {
     "name": "stdout",
     "output_type": "stream",
     "text": [
      "[['c', 'i', 'e', 'l', 'o']]\n",
      "[['c', 'i', 'e', 'l', 'o'], ['c', 'a', 'l', 'o', 'r']]\n",
      "[['c', 'i', 'e', 'l', 'o'], ['c', 'a', 'l', 'o', 'r'], ['n', 'u', 'b', 'e', 's']]\n"
     ]
    }
   ],
   "source": [
    "palabras_ingresadas = [] # PASO 1: Para listas crear siempre primero una lista vacia\n",
    "\n",
    "for iterador in range(3): # PASO 5: Repetir el proceso 3 veces \n",
    "    palabra = input(\"Favor ingrese una palabra\") # PASO 2: Al ingresar la primera palabra\n",
    "\n",
    "    palabra_lista = list(palabra) # PASO 3: Convertir esa palabra a una lista\n",
    "    palabras_ingresadas.append(palabra_lista) # PASO 4: Agregar esa lista a una lista llamada: palabras_ingresadas\n",
    "\n",
    "    print(palabras_ingresadas)"
   ]
  },
  {
   "cell_type": "code",
   "execution_count": 64,
   "metadata": {},
   "outputs": [
    {
     "name": "stdout",
     "output_type": "stream",
     "text": [
      "[['c', 'i', 'e', 'l', 'o']]\n",
      "[['c', 'i', 'e', 'l', 'o'], ['c', 'a', 'l', 'o', 'r']]\n",
      "[['c', 'i', 'e', 'l', 'o'], ['c', 'a', 'l', 'o', 'r'], ['n', 'u', 'e', 'b', 's']]\n"
     ]
    }
   ],
   "source": [
    "palabras_ingresadas = []\n",
    "\n",
    "palabra = input(\"Favor ingrese una palabra\") # PASO 2: Al ingresar la primera palabra\n",
    "palabra_lista = list(palabra) # PASO 3: Convertir esa palabra a una lista\n",
    "palabras_ingresadas.append(palabra_lista) # PASO 4: Agregar esa lista a una lista llamada: palabras_ingresadas\n",
    "\n",
    "print(palabras_ingresadas)\n",
    "palabra = input(\"Favor ingrese una palabra\") # PASO 2: Al ingresar la primera palabra\n",
    "\n",
    "palabra_lista = list(palabra) # PASO 3: Convertir esa palabra a una lista\n",
    "palabras_ingresadas.append(palabra_lista) # PASO 4: Agregar esa lista a una lista llamada: palabras_ingresadas\n",
    "\n",
    "print(palabras_ingresadas)\n",
    "palabra = input(\"Favor ingrese una palabra\") # PASO 2: Al ingresar la primera palabra\n",
    "\n",
    "palabra_lista = list(palabra) # PASO 3: Convertir esa palabra a una lista\n",
    "palabras_ingresadas.append(palabra_lista) # PASO 4: Agregar esa lista a una lista llamada: palabras_ingresadas\n",
    "\n",
    "print(palabras_ingresadas)\n"
   ]
  },
  {
   "attachments": {},
   "cell_type": "markdown",
   "metadata": {},
   "source": [
    "## Challenge 🤺 - 20m\n",
    "\n",
    "Dada la lista de ejemplo: \n",
    "\n",
    "lista = [['h', 'o', 'l', 'i', 's'], ['h', 'e', 'l', 'l', 'o'], ['h', 'a', 'l', 'l', 'o']]\n",
    "\n",
    "Crear una función que imprima una grilla (lista de listas), una línea por cada lista dentro de la lista principal.\n",
    "\n",
    "Ejemplo del resultado esperado:\n",
    "\n",
    "```\n",
    "['h', 'o', 'l', 'i', 's']\n",
    "['h', 'e', 'l', 'l', 'o']\n",
    "['h', 'a', 'l', 'l', 'o']\n",
    "```"
   ]
  },
  {
   "cell_type": "code",
   "execution_count": 65,
   "metadata": {},
   "outputs": [
    {
     "name": "stdout",
     "output_type": "stream",
     "text": [
      "[['h', 'o', 'l', 'i', 's'], ['h', 'e', 'l', 'l', 'o'], ['h', 'a', 'l', 'l', 'o']]\n"
     ]
    }
   ],
   "source": [
    "lista = [['h', 'o', 'l', 'i', 's'], ['h', 'e', 'l', 'l', 'o'], ['h', 'a', 'l', 'l', 'o']]\n",
    "\n",
    "def grilla(lista):\n",
    "    print(lista)\n",
    "\n",
    "grilla(lista)"
   ]
  },
  {
   "attachments": {},
   "cell_type": "markdown",
   "metadata": {},
   "source": [
    "# Solucion de todos 😼"
   ]
  },
  {
   "cell_type": "code",
   "execution_count": 75,
   "metadata": {},
   "outputs": [
    {
     "name": "stdout",
     "output_type": "stream",
     "text": [
      "['h', 'o', 'l', 'i', 's']\n",
      "['h', 'e', 'l', 'l', 'o']\n"
     ]
    }
   ],
   "source": [
    "lista = [['h', 'o', 'l', 'i', 's'], ['h', 'e', 'l', 'l', 'o']] \n",
    "\n",
    "# Crear una función que imprima una grilla (lista de listas), una línea por cada lista dentro de la lista principal.\n",
    "\n",
    "def imprimir_grilla(lista_grande):\n",
    "    for elemento in lista_grande:\n",
    "        print(elemento)\n",
    "\n",
    "imprimir_grilla(lista)"
   ]
  },
  {
   "attachments": {},
   "cell_type": "markdown",
   "metadata": {},
   "source": [
    "# Funcion verificadora"
   ]
  },
  {
   "attachments": {},
   "cell_type": "markdown",
   "metadata": {},
   "source": [
    "Acercandonos un poco más a nuestro juego, vamos a ver cual es el proceso cada vez que se ingresa una palabra\n",
    "\n",
    "- Crear una lista vacía `letras_verificadas` para las letras de la palabra luego de ser verificada\n",
    "- Definir la cantidad de letras de la palabra a encontrar\n",
    "- Si las letras existen en la palabra a encontrar y sus posiciones coinciden: encerrar en corchetes `[]` y agregar al resultado\n",
    "- Si las letras existen en la palabra a encontrar pero sus posiciones no coinciden: encerrar en parentesis `()` y agregar al resultado\n",
    "- Si no se cumple ninguna de las anteriores, agregar la letra a la lista vacía sin modificaciones\n",
    "- Retornar el resultado"
   ]
  },
  {
   "cell_type": "code",
   "execution_count": 76,
   "metadata": {},
   "outputs": [],
   "source": [
    "def verificacion(palabra_ingresada, palabra_secreta):\n",
    "    # Lista vacia\n",
    "    letras_verificadas = []\n",
    "\n",
    "    cantidad_de_letras_palabra_secreta = 5\n",
    "\n",
    "    for posicion in range(cantidad_de_letras_palabra_secreta):\n",
    "        \n",
    "        las_letras_son_iguales = palabra_ingresada[posicion] == palabra_secreta[posicion]\n",
    "\n",
    "        la_letra_existe_en_la_palabra = palabra_ingresada[posicion] in palabra_secreta\n",
    "\n",
    "        if las_letras_son_iguales:\n",
    "            letras_verificadas.append('[' + palabra_ingresada[posicion] + ']' )\n",
    "        elif la_letra_existe_en_la_palabra:\n",
    "            letras_verificadas.append('(' + palabra_ingresada[posicion] + ')' )\n",
    "        else:\n",
    "            letras_verificadas.append(palabra_ingresada[posicion])\n",
    "    return letras_verificadas"
   ]
  },
  {
   "cell_type": "code",
   "execution_count": 78,
   "metadata": {},
   "outputs": [
    {
     "name": "stdout",
     "output_type": "stream",
     "text": [
      "['[v]', 'a', '[r]', '(i)', 'n']\n"
     ]
    }
   ],
   "source": [
    "print(verificacion(\"varin\", \"virus\"))"
   ]
  },
  {
   "cell_type": "code",
   "execution_count": 79,
   "metadata": {},
   "outputs": [
    {
     "name": "stdout",
     "output_type": "stream",
     "text": [
      "Te quedan 3 intentos\n",
      "Te quedan 2 intentos\n",
      "Te quedan 1 intentos\n"
     ]
    }
   ],
   "source": [
    "intentos = 3\n",
    "\n",
    "while intentos > 0:\n",
    "    print(f\"Te quedan {intentos} intentos\")\n",
    "    palabra = input(\"Ingresa una palabra\")\n",
    "    intentos = intentos - 1\n",
    "    "
   ]
  },
  {
   "attachments": {},
   "cell_type": "markdown",
   "metadata": {},
   "source": [
    "# ¿Y si unimos todo? 💥💥💥💥💥💥💥 - 1h"
   ]
  }
 ],
 "metadata": {
  "kernelspec": {
   "display_name": "Python 3",
   "language": "python",
   "name": "python3"
  },
  "language_info": {
   "codemirror_mode": {
    "name": "ipython",
    "version": 3
   },
   "file_extension": ".py",
   "mimetype": "text/x-python",
   "name": "python",
   "nbconvert_exporter": "python",
   "pygments_lexer": "ipython3",
   "version": "3.11.3"
  },
  "orig_nbformat": 4
 },
 "nbformat": 4,
 "nbformat_minor": 2
}
