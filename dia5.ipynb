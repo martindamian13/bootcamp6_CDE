{
 "cells": [
  {
   "cell_type": "markdown",
   "metadata": {},
   "source": [
    "# Dia 5 🎉🎉🎉"
   ]
  },
  {
   "cell_type": "code",
   "execution_count": 26,
   "metadata": {},
   "outputs": [
    {
     "name": "stdout",
     "output_type": "stream",
     "text": [
      "<class 'dict'>\n",
      "Consul Dayo\n",
      "Tokio\n",
      "{'microondas': 'Tokio', 'cafetera': 'Dayo', 'heladera': 'Consul', 'cocina': 'Wirpul'}\n",
      "{'microondas': 'Tokio', 'cafetera': 'Dayo', 'heladera': 'Consul', 'cocina': 'Whirpool'}\n",
      "{'microondas': 'Tokio', 'cafetera': 'Dayo', 'heladera': 'Consul'}\n",
      "{'cafetera': 'Dayo', 'heladera': 'Consul'}\n",
      "dict_keys(['cafetera', 'heladera'])\n",
      "dict_values(['Dayo', 'Consul'])\n"
     ]
    }
   ],
   "source": [
    "# Diccionarios\n",
    "\n",
    "# Key = Llave\n",
    "# value = Valor \n",
    "\n",
    "marca = \"Tokio\"\n",
    "electro = \"heladera\"\n",
    "\n",
    "marcas_electrodo_cocina = {'microondas':marca, 'cafetera': \"Dayo\", electro: \"Consul\"}\n",
    "print(type(marcas_electrodo_cocina))\n",
    "\n",
    "# Acceder a datos de un diccionario\n",
    "print(marcas_electrodo_cocina[electro], marcas_electrodo_cocina['cafetera'])\n",
    "print(marcas_electrodo_cocina[\"microondas\"])\n",
    "\n",
    "# Agregar datos a un diccionario \n",
    "marcas_electrodo_cocina['cocina'] = 'Wirpul'\n",
    "print(marcas_electrodo_cocina)\n",
    "\n",
    "# Modificar datos de un diccionario \n",
    "marcas_electrodo_cocina['cocina'] = \"Whirpool\"\n",
    "print(marcas_electrodo_cocina)\n",
    "\n",
    "# Eliminar datos de un diccionario\n",
    "marcas_electrodo_cocina.pop(\"cocina\")\n",
    "print(marcas_electrodo_cocina)\n",
    "\n",
    "del marcas_electrodo_cocina[\"microondas\"]\n",
    "print(marcas_electrodo_cocina)\n",
    "\n",
    "print(marcas_electrodo_cocina.keys())\n",
    "print(marcas_electrodo_cocina.values())\n",
    "\n"
   ]
  },
  {
   "cell_type": "code",
   "execution_count": 28,
   "metadata": {},
   "outputs": [
    {
     "name": "stdout",
     "output_type": "stream",
     "text": [
      "Hola, mi nombre es Martin Quintana\n"
     ]
    }
   ],
   "source": [
    "mis_datos = {\"nombre\": \"Martin\", \"apellido\":\"Quintana\", \"edad\": 24, \"salario\": 0}\n",
    "\n",
    "print(f\"Hola, mi nombre es {mis_datos['nombre']} {mis_datos['apellido']}\")"
   ]
  },
  {
   "cell_type": "markdown",
   "metadata": {},
   "source": [
    "## Challenge 🤺 - 15min\n",
    "Escribir un programa que cree un diccionario vacío y lo vaya llenando con información sobre una persona (por ejemplo nombre, edad, teléfono, correo electrónico, etc. pueden agregar lo que quieran) que se le pida al usuario. Cada vez que se añada un nuevo dato debe imprimirse el contenido del diccionario."
   ]
  },
  {
   "cell_type": "markdown",
   "metadata": {},
   "source": [
    "# Solucion de Fernando 🥹"
   ]
  },
  {
   "cell_type": "code",
   "execution_count": 29,
   "metadata": {},
   "outputs": [
    {
     "name": "stdout",
     "output_type": "stream",
     "text": [
      "Para parar ingrese \"stop\"\n",
      "{'nombre': 'y Martin'}\n",
      "{'nombre': 'y Martin', 'apellido': 'no me acuerdo'}\n",
      "{'nombre': 'y Martin', 'apellido': 'no me acuerdo', 'salario': '-10'}\n",
      "Muchas Gracias\n"
     ]
    }
   ],
   "source": [
    "info = {}\n",
    "ingresado = ''\n",
    "print('Para parar ingrese \"stop\"')\n",
    "while True:\n",
    "    campo = input(\"Ingrese un campo\")\n",
    "    if campo == \"stop\":\n",
    "        break\n",
    "    dato = input(\"Ingrese la info\")\n",
    "    if dato == \"stop\":\n",
    "        break\n",
    "\n",
    "    info[campo] = dato\n",
    "\n",
    "    print (info)\n",
    "\n",
    "print(\"Muchas Gracias\")"
   ]
  },
  {
   "cell_type": "markdown",
   "metadata": {},
   "source": [
    "# Solucion de Pai 🐧"
   ]
  },
  {
   "cell_type": "code",
   "execution_count": 30,
   "metadata": {},
   "outputs": [
    {
     "name": "stdout",
     "output_type": "stream",
     "text": [
      "{'nombre': 'Martin', 'edad': 24, 'telefono': 973229057, 'correo': 'martin@penguin.academy'}\n",
      "{'nombre': 'Martin', 'edad': 24, 'telefono': 0, 'correo': 'hola@hola.hola'}\n"
     ]
    },
    {
     "ename": "ValueError",
     "evalue": "invalid literal for int() with base 10: 'as'",
     "output_type": "error",
     "traceback": [
      "\u001b[0;31m---------------------------------------------------------------------------\u001b[0m",
      "\u001b[0;31mValueError\u001b[0m                                Traceback (most recent call last)",
      "Cell \u001b[0;32mIn[30], line 2\u001b[0m\n\u001b[1;32m      1\u001b[0m \u001b[39mfor\u001b[39;00m _ \u001b[39min\u001b[39;00m  \u001b[39mrange\u001b[39m(\u001b[39m3\u001b[39m): \n\u001b[0;32m----> 2\u001b[0m     datos\u001b[39m=\u001b[39m {\u001b[39m\"\u001b[39m\u001b[39mnombre\u001b[39m\u001b[39m\"\u001b[39m: \u001b[39minput\u001b[39m(\u001b[39m\"\u001b[39m\u001b[39mponer nombre\u001b[39m\u001b[39m\"\u001b[39m) , \u001b[39m\"\u001b[39m\u001b[39medad\u001b[39m\u001b[39m\"\u001b[39m: \u001b[39mint\u001b[39m(\u001b[39minput\u001b[39m(\u001b[39m\"\u001b[39m\u001b[39mescribir edad\u001b[39m\u001b[39m\"\u001b[39m)), \u001b[39m\"\u001b[39m\u001b[39mtelefono\u001b[39m\u001b[39m\"\u001b[39m: \u001b[39mint\u001b[39;49m(\u001b[39minput\u001b[39;49m(\u001b[39m\"\u001b[39;49m\u001b[39mcual es tu numero telefonico?\u001b[39;49m\u001b[39m\"\u001b[39;49m)), \u001b[39m\"\u001b[39m\u001b[39mcorreo\u001b[39m\u001b[39m\"\u001b[39m: \u001b[39minput\u001b[39m(\u001b[39m\"\u001b[39m\u001b[39mescribir correo\u001b[39m\u001b[39m\"\u001b[39m) }\n\u001b[1;32m      3\u001b[0m     \u001b[39mprint\u001b[39m(datos)\n",
      "\u001b[0;31mValueError\u001b[0m: invalid literal for int() with base 10: 'as'"
     ]
    }
   ],
   "source": [
    "for _ in  range(3): \n",
    "    datos= {\"nombre\": input(\"poner nombre\") , \"edad\": int(input(\"escribir edad\")), \"telefono\": int(input(\"cual es tu numero telefonico?\")), \"correo\": input(\"escribir correo\") }\n",
    "    print(datos)"
   ]
  },
  {
   "cell_type": "code",
   "execution_count": 33,
   "metadata": {},
   "outputs": [
    {
     "name": "stdout",
     "output_type": "stream",
     "text": [
      "{'nombre': 'Martin'}\n",
      "{'nombre': 'Martin', 'apellido': 'Quintana'}\n",
      "{'nombre': 'Martin', 'apellido': 'Quintana', '': ''}\n",
      "{'nombre': 'Martin', 'apellido': 'Quintana', '': ''}\n",
      "{'nombre': 'Martin', 'apellido': 'Quintana', '': ''}\n"
     ]
    },
    {
     "ename": "KeyboardInterrupt",
     "evalue": "Interrupted by user",
     "output_type": "error",
     "traceback": [
      "\u001b[0;31m---------------------------------------------------------------------------\u001b[0m",
      "\u001b[0;31mKeyboardInterrupt\u001b[0m                         Traceback (most recent call last)",
      "Cell \u001b[0;32mIn[33], line 5\u001b[0m\n\u001b[1;32m      3\u001b[0m \u001b[39mwhile\u001b[39;00m \u001b[39mTrue\u001b[39;00m:\n\u001b[1;32m      4\u001b[0m     key \u001b[39m=\u001b[39m \u001b[39minput\u001b[39m(\u001b[39m\"\u001b[39m\u001b[39mIngrese un campo\u001b[39m\u001b[39m\"\u001b[39m)\n\u001b[0;32m----> 5\u001b[0m     diccionario[key] \u001b[39m=\u001b[39m \u001b[39minput\u001b[39;49m(\u001b[39mf\u001b[39;49m\u001b[39m\"\u001b[39;49m\u001b[39mIngresa \u001b[39;49m\u001b[39m{\u001b[39;49;00mkey\u001b[39m}\u001b[39;49;00m\u001b[39m \u001b[39;49m\u001b[39m\"\u001b[39;49m)\n\u001b[1;32m      6\u001b[0m     \u001b[39mprint\u001b[39m(diccionario)\n",
      "File \u001b[0;32m~/Library/Python/3.11/lib/python/site-packages/ipykernel/kernelbase.py:1191\u001b[0m, in \u001b[0;36mKernel.raw_input\u001b[0;34m(self, prompt)\u001b[0m\n\u001b[1;32m   1189\u001b[0m     msg \u001b[39m=\u001b[39m \u001b[39m\"\u001b[39m\u001b[39mraw_input was called, but this frontend does not support input requests.\u001b[39m\u001b[39m\"\u001b[39m\n\u001b[1;32m   1190\u001b[0m     \u001b[39mraise\u001b[39;00m StdinNotImplementedError(msg)\n\u001b[0;32m-> 1191\u001b[0m \u001b[39mreturn\u001b[39;00m \u001b[39mself\u001b[39;49m\u001b[39m.\u001b[39;49m_input_request(\n\u001b[1;32m   1192\u001b[0m     \u001b[39mstr\u001b[39;49m(prompt),\n\u001b[1;32m   1193\u001b[0m     \u001b[39mself\u001b[39;49m\u001b[39m.\u001b[39;49m_parent_ident[\u001b[39m\"\u001b[39;49m\u001b[39mshell\u001b[39;49m\u001b[39m\"\u001b[39;49m],\n\u001b[1;32m   1194\u001b[0m     \u001b[39mself\u001b[39;49m\u001b[39m.\u001b[39;49mget_parent(\u001b[39m\"\u001b[39;49m\u001b[39mshell\u001b[39;49m\u001b[39m\"\u001b[39;49m),\n\u001b[1;32m   1195\u001b[0m     password\u001b[39m=\u001b[39;49m\u001b[39mFalse\u001b[39;49;00m,\n\u001b[1;32m   1196\u001b[0m )\n",
      "File \u001b[0;32m~/Library/Python/3.11/lib/python/site-packages/ipykernel/kernelbase.py:1234\u001b[0m, in \u001b[0;36mKernel._input_request\u001b[0;34m(self, prompt, ident, parent, password)\u001b[0m\n\u001b[1;32m   1231\u001b[0m \u001b[39mexcept\u001b[39;00m \u001b[39mKeyboardInterrupt\u001b[39;00m:\n\u001b[1;32m   1232\u001b[0m     \u001b[39m# re-raise KeyboardInterrupt, to truncate traceback\u001b[39;00m\n\u001b[1;32m   1233\u001b[0m     msg \u001b[39m=\u001b[39m \u001b[39m\"\u001b[39m\u001b[39mInterrupted by user\u001b[39m\u001b[39m\"\u001b[39m\n\u001b[0;32m-> 1234\u001b[0m     \u001b[39mraise\u001b[39;00m \u001b[39mKeyboardInterrupt\u001b[39;00m(msg) \u001b[39mfrom\u001b[39;00m \u001b[39mNone\u001b[39;00m\n\u001b[1;32m   1235\u001b[0m \u001b[39mexcept\u001b[39;00m \u001b[39mException\u001b[39;00m:\n\u001b[1;32m   1236\u001b[0m     \u001b[39mself\u001b[39m\u001b[39m.\u001b[39mlog\u001b[39m.\u001b[39mwarning(\u001b[39m\"\u001b[39m\u001b[39mInvalid Message:\u001b[39m\u001b[39m\"\u001b[39m, exc_info\u001b[39m=\u001b[39m\u001b[39mTrue\u001b[39;00m)\n",
      "\u001b[0;31mKeyboardInterrupt\u001b[0m: Interrupted by user"
     ]
    }
   ],
   "source": [
    "diccionario = {}\n",
    "\n",
    "while True:\n",
    "    key = input(\"Ingrese un campo\")\n",
    "    diccionario[key] = input(f\"Ingresa {key} \")\n",
    "    print(diccionario)\n",
    "    if key == 'salir':\n",
    "        break\n"
   ]
  },
  {
   "cell_type": "markdown",
   "metadata": {},
   "source": []
  },
  {
   "cell_type": "code",
   "execution_count": 37,
   "metadata": {},
   "outputs": [
    {
     "name": "stdout",
     "output_type": "stream",
     "text": [
      "<class 'dict'>\n",
      "{'nombre': ''}\n",
      "{'nombre': '', 'apellido': ''}\n",
      "{'nombre': '', 'apellido': '', 'edad': ''}\n"
     ]
    }
   ],
   "source": [
    "lista = ['nombre', 'apellido', 'edad']\n",
    "datos = {}\n",
    "print(type(datos))\n",
    "\n",
    "for elemento in lista:\n",
    "    datos[elemento] = input(f\"ingresa {elemento}\")\n",
    "    print(datos)"
   ]
  },
  {
   "cell_type": "markdown",
   "metadata": {},
   "source": [
    "## Challenge 🤺 - 20min\n",
    "\n",
    "Crear una tarjeta personal. El usuario (mediante input) puede elegir:\n",
    "\n",
    "1. Crear datos nuevos\n",
    "2. Modificar datos\n",
    "3. Eliminar datos"
   ]
  },
  {
   "cell_type": "markdown",
   "metadata": {},
   "source": [
    "# Solucion de Liz ⭐️"
   ]
  },
  {
   "cell_type": "code",
   "execution_count": 38,
   "metadata": {},
   "outputs": [
    {
     "name": "stdout",
     "output_type": "stream",
     "text": [
      "{'nombre': 'Martin'}\n",
      "{'nombre': 'Martin', 'apellido': 'Quintana'}\n",
      "{'nombre': 'Damian', 'apellido': 'Quintana'}\n",
      "{'nombre': 'Damian'}\n"
     ]
    }
   ],
   "source": [
    "info={}\n",
    "\n",
    "while True:\n",
    "    tarea=input(\"Ingresa una tarea: \")\n",
    "\n",
    "#condicion para agregar datos\n",
    "    if tarea=='agregar':\n",
    "        agrega=input(\"Ingrese el campo que desea agregar: \")\n",
    "        info[agrega]=input(f\"Ingrese el {agrega}:\")\n",
    "        print(info)\n",
    "\n",
    "\n",
    "#condicion para modificar la tarjeta\n",
    "    if tarea=='modificar':\n",
    "        modifica=input(\"Ingrese el campo que desea modificar: \")\n",
    "        info[modifica]=input(f\"Ingrese el {modifica}: \")\n",
    "        print(info)\n",
    "\n",
    "#condicion para eliminar valores de la tarjeta\n",
    "    if tarea=='eliminar':\n",
    "        eliminar=input(\"Que campo desea eliminar?: \")\n",
    "        info.pop(eliminar)\n",
    "        print(info)\n",
    "\n",
    "    if tarea=='salir': #condicion para salir \n",
    "        break"
   ]
  },
  {
   "cell_type": "markdown",
   "metadata": {},
   "source": [
    "## Challenge 3 🤺\n",
    "Crear una agenda de contactos. El usuario puede elegir:\n",
    "\n",
    "1. Mostrar los contactos\n",
    "2. Crear contacto\n",
    "3. Modificar datos del contacto"
   ]
  },
  {
   "cell_type": "markdown",
   "metadata": {},
   "source": [
    "# Programacion Orientada a Objetos"
   ]
  },
  {
   "cell_type": "code",
   "execution_count": 50,
   "metadata": {},
   "outputs": [
    {
     "name": "stdout",
     "output_type": "stream",
     "text": [
      "Mi perro tiene 2 ojos.\n",
      "Mi perro tiene 4 patas\n",
      "Y es de color marron\n",
      "4\n",
      "blanco\n"
     ]
    }
   ],
   "source": [
    "class Mascota():\n",
    "    ojos = 2\n",
    "    patas = 4\n",
    "\n",
    "    def __init__(self, color):\n",
    "        self.color = color\n",
    "\n",
    "# Instanciamos el objeto\n",
    "perro = Mascota(\"marron\")\n",
    "gato = Mascota('blanco')\n",
    "\n",
    "print(f\"Mi perro tiene {perro.ojos} ojos.\")\n",
    "print(f\"Mi perro tiene {perro.patas} patas\")\n",
    "print(f\"Y es de color {perro.color}\")\n",
    "\n",
    "print(gato.patas)\n",
    "print(gato.color)"
   ]
  },
  {
   "cell_type": "markdown",
   "metadata": {},
   "source": [
    "## Challenge \n",
    "\n",
    "Crear dos class de animales que tengan atributos de clase y de instancia.\n",
    "\n",
    "- Atributos de clase: `especie`.\n",
    "- Atributos de instancia: `nombre` & `color`.\n",
    "Luego, crear nuevos objetos a partir de las nuevas class. Imprimir el nombre y el color de los animales en una frase que diga: \"Me llamo `{nombre}` y soy un `{especie}` de color `{color}`\"."
   ]
  },
  {
   "cell_type": "markdown",
   "metadata": {},
   "source": [
    "# Solucion de Pai 👑"
   ]
  },
  {
   "cell_type": "code",
   "execution_count": 53,
   "metadata": {},
   "outputs": [
    {
     "name": "stdout",
     "output_type": "stream",
     "text": [
      "Me llamo Dousher y soy un perro de color marron\n"
     ]
    }
   ],
   "source": [
    "class Terrestre():\n",
    "    pulmones = 2\n",
    "    patas = 2\n",
    "    cola = 1\n",
    "    especie = \"perro\"\n",
    "    def __init__(self,nombre,color) :\n",
    "        self.nombre = nombre\n",
    "        self.color = color\n",
    "class Acuaticos():\n",
    "    branqueas = 2\n",
    "    aletas = 2\n",
    "    cola = 1\n",
    "    especie = \"delfinus maximus\"\n",
    "\n",
    "    def __init__(self,nombre,color) :\n",
    "        self.nombre = nombre\n",
    "        self.color = color \n",
    "perro = Terrestre(input(\"ingrese nombre de perro\"), input(\"color\"))\n",
    "delfin = Acuaticos(input(\"ingrese nombre del delfin\"), input(\"color\"))\n",
    "if input(\"ingrese perro o delfin\") == \"perro\":\n",
    "    print(f\"Me llamo {perro.nombre} y soy un {perro.especie} de color {perro.color}\")\n",
    "else:\n",
    "    print(f\"Me llamo {delfin.nombre} y sou un {delfin.especie} de color {delfin.color}\")"
   ]
  },
  {
   "cell_type": "markdown",
   "metadata": {},
   "source": [
    "# Solucion de Jazmin 💀"
   ]
  },
  {
   "cell_type": "code",
   "execution_count": 58,
   "metadata": {},
   "outputs": [
    {
     "name": "stdout",
     "output_type": "stream",
     "text": [
      "Me llamo Winter y soy una ballena de color rosita\n",
      "Me llamo Lalo y soy un ave de color amarillo\n",
      "Me llamo Bob y soy una ballena de color azul\n",
      "Me llamo Dove y soy un ave de color gris\n",
      "2\n"
     ]
    },
    {
     "ename": "AttributeError",
     "evalue": "'Animales_marinos' object has no attribute 'ojos'",
     "output_type": "error",
     "traceback": [
      "\u001b[0;31m---------------------------------------------------------------------------\u001b[0m",
      "\u001b[0;31mAttributeError\u001b[0m                            Traceback (most recent call last)",
      "Cell \u001b[0;32mIn[58], line 27\u001b[0m\n\u001b[1;32m     24\u001b[0m \u001b[39mprint\u001b[39m(\u001b[39mf\u001b[39m\u001b[39m\"\u001b[39m\u001b[39mMe llamo \u001b[39m\u001b[39m{\u001b[39;00mpaloma\u001b[39m.\u001b[39mnombre\u001b[39m}\u001b[39;00m\u001b[39m y soy un \u001b[39m\u001b[39m{\u001b[39;00mpaloma\u001b[39m.\u001b[39mespecie\u001b[39m}\u001b[39;00m\u001b[39m de color \u001b[39m\u001b[39m{\u001b[39;00mpaloma\u001b[39m.\u001b[39mcolor\u001b[39m}\u001b[39;00m\u001b[39m\"\u001b[39m)\n\u001b[1;32m     26\u001b[0m \u001b[39mprint\u001b[39m(ballena\u001b[39m.\u001b[39mojos)\n\u001b[0;32m---> 27\u001b[0m \u001b[39mprint\u001b[39m(orca\u001b[39m.\u001b[39;49mojos)\n",
      "\u001b[0;31mAttributeError\u001b[0m: 'Animales_marinos' object has no attribute 'ojos'"
     ]
    }
   ],
   "source": [
    "class Animales_marinos():\n",
    "    especie = \"ballena\"\n",
    "    def __init__(self,nombre,color):\n",
    "        self.nombre = nombre\n",
    "        self.color = color\n",
    "\n",
    "\n",
    "class Animales_terrestres():\n",
    "    especie = \"ave\"\n",
    "    def __init__(self,nombre,color):\n",
    "        self.nombre = nombre\n",
    "        self.color = color\n",
    "\n",
    "orca = Animales_marinos(\"Winter\", \"rosita\")\n",
    "ballena = Animales_marinos(\"Bob\", \"azul\")\n",
    "pitogue = Animales_terrestres(\"Lalo\", \"amarillo\")\n",
    "paloma = Animales_terrestres(\"Dove\" , \"gris\")\n",
    "\n",
    "ballena.ojos = 2\n",
    "\n",
    "print(f\"Me llamo {orca.nombre} y soy una {orca.especie} de color {orca.color}\")\n",
    "print(f\"Me llamo {pitogue.nombre} y soy un {pitogue.especie} de color {pitogue.color}\")\n",
    "print(f\"Me llamo {ballena.nombre} y soy una {ballena.especie} de color {ballena.color}\")\n",
    "print(f\"Me llamo {paloma.nombre} y soy un {paloma.especie} de color {paloma.color}\")\n",
    "\n",
    "print(ballena.ojos)\n",
    "print(orca.ojos)"
   ]
  },
  {
   "cell_type": "markdown",
   "metadata": {},
   "source": [
    "## Metodos "
   ]
  },
  {
   "cell_type": "code",
   "execution_count": 63,
   "metadata": {},
   "outputs": [
    {
     "name": "stdout",
     "output_type": "stream",
     "text": [
      "Estoy caminando jeje\n",
      "Comi 2 kg de comida\n"
     ]
    }
   ],
   "source": [
    "class Mascota():\n",
    "    ojos = 2 # Atributo de clase\n",
    "    patas = 4\n",
    "\n",
    "    def __init__(self, color):\n",
    "        self.color = color # Atributo de instancia\n",
    "\n",
    "    def caminar(self):\n",
    "        print(\"Estoy caminando jeje\")\n",
    "\n",
    "    def comer(self, kg):\n",
    "        print(f\"Comi {kg} kg de comida\")\n",
    "\n",
    "\n",
    "perro = Mascota(\"marron\")\n",
    "\n",
    "perro.caminar()\n",
    "perro.comer(2)"
   ]
  },
  {
   "cell_type": "markdown",
   "metadata": {},
   "source": [
    "## Challenge\n",
    "Crear dos métodos por animal, que sea hablar y moverse.\n",
    "\n",
    "En el método hablar, imprimir: \"Cuando hablo, digo X\".\n",
    "En el método mover, imprimir: \"Cuando me muevo, hago X\".\n",
    "\n",
    "X debe ser algo específico de ese animal"
   ]
  },
  {
   "cell_type": "markdown",
   "metadata": {},
   "source": [
    "# Solucion de Jose 🐎"
   ]
  },
  {
   "cell_type": "code",
   "execution_count": 66,
   "metadata": {},
   "outputs": [
    {
     "name": "stdout",
     "output_type": "stream",
     "text": [
      "Soy tiro al blanco y cuando corro digo tatatat tatatat tatatat\n",
      "Soy tiro al blanco y cuando hablo digo grrr prfff\n",
      "\n",
      "Soy EL BRAYAN y cuando paso digo sssssuaaanfonson\n",
      "Soy EL BRAYAN y cuando hablo digo 'Tené hora kp'\n"
     ]
    }
   ],
   "source": [
    "class Caballos():\n",
    "    patas = 4\n",
    "\n",
    "    def __init__(self, nombre):\n",
    "        self.nombre = nombre\n",
    "\n",
    "    def correr(self):\n",
    "        print(f\"Soy {self.nombre} y cuando corro digo tatatat tatatat tatatat\")\n",
    "\n",
    "    def hablar(self):\n",
    "        print(f\"Soy {self.nombre} y cuando hablo digo grrr prfff\")\n",
    "\n",
    "class Motochorros():\n",
    "    celulares = 5\n",
    "\n",
    "    def mover(self, nombre):\n",
    "        print(f\"Soy {nombre} y cuando paso digo sssssuaaanfonson\")\n",
    "\n",
    "    def intimidar(self, nombre):\n",
    "        print(f\"Soy {nombre} y cuando hablo digo 'Tené hora kp'\")\n",
    "\n",
    "caballo = Caballos(\"tiro al blanco\")\n",
    "\n",
    "caballo.correr()\n",
    "caballo.hablar()\n",
    "\n",
    "print()\n",
    "\n",
    "motochorro = Motochorros()\n",
    "\n",
    "motochorro.mover(\"EL BRAYAN\")\n",
    "motochorro.intimidar(\"EL BRAYAN\")"
   ]
  },
  {
   "cell_type": "markdown",
   "metadata": {},
   "source": [
    "# Solucion de Liz 🌙"
   ]
  },
  {
   "cell_type": "code",
   "execution_count": 65,
   "metadata": {},
   "outputs": [
    {
     "name": "stdout",
     "output_type": "stream",
     "text": [
      "Me llamo poli y soy un oso polar de color blanco\n",
      "Cuando hablo, digo ruuf\n",
      "Cuando me muevo, hago buum\n",
      "\n",
      "Me llamo pati y soy un pato de color amarillo\n",
      "Cuando hablo, digo cuack\n",
      "Cuando me muevo, hago pim pim\n",
      "\n"
     ]
    }
   ],
   "source": [
    "#crear dos clases de animales\n",
    "\n",
    "class Oso(): #atributos de clase: especie\n",
    "    especie='oso polar' \n",
    "\n",
    "    def hablar(self): #metodo 1\n",
    "        print(\"Cuando hablo, digo ruuf\")\n",
    "\n",
    "    def mover(self): #metodo 2\n",
    "        print(\"Cuando me muevo, hago buum\")\n",
    "\n",
    "    def __init__(self, nombre, color): #atributos de instancia: nombre & color\n",
    "        self.nombre=nombre\n",
    "        self.color=color\n",
    "\n",
    "class Ave(): #atributos de clase: especie\n",
    "    especie='pato'\n",
    "\n",
    "    def hablar(self): #metodo 1\n",
    "        print(\"Cuando hablo, digo cuack\")\n",
    "\n",
    "    def mover(self): #metodo 2\n",
    "        print(\"Cuando me muevo, hago pim pim\")\n",
    "\n",
    "    def __init__(self, nombre, color): #atributos de instancia\n",
    "        self.nombre=nombre\n",
    "        self.color=color\n",
    "\n",
    "#Luego, crear nuevos objetos a partir de las nuevas clases. \n",
    "\n",
    "oso = Oso(\"poli\", \"blanco\")\n",
    "pato = Ave(\"pati\", \"amarillo\")\n",
    "\n",
    "#mensajes de los metodos\n",
    "#animal 1\n",
    "print(f\"Me llamo {oso.nombre} y soy un {oso.especie} de color {oso.color}\")\n",
    "oso.hablar()\n",
    "oso.mover()\n",
    "print()\n",
    "\n",
    "#animal 2\n",
    "print(f\"Me llamo {pato.nombre} y soy un {pato.especie} de color {pato.color}\")\n",
    "pato.hablar()\n",
    "pato.mover()\n",
    "print()"
   ]
  },
  {
   "cell_type": "code",
   "execution_count": null,
   "metadata": {},
   "outputs": [],
   "source": [
    "class Animal():\n",
    "    # Atributos de clase: especie\n",
    "    especie = \"Carnívoro\"\n",
    "    def hablar (self): # En el metodo hablar; imprimir: \"Cuando hablo, digo X\"\n",
    "        print(\"Cuando hablo, digo ¿Qué hay de nuevo viejo?\")\n",
    "    def mover (self): # En el método mover; imprimir:\"Cuando me muevo, hago X\"\n",
    "        print(\"Cuando me muevo, como zanahorias\")\n",
    "\n",
    "\n",
    "\n",
    "bugs_bunny = Animal()\n",
    "bugs_bunny.hablar( )\n",
    "bugs_bunny.mover( )\n",
    "print (\"Eso es todo amigos.\")"
   ]
  },
  {
   "cell_type": "code",
   "execution_count": 70,
   "metadata": {},
   "outputs": [
    {
     "name": "stdout",
     "output_type": "stream",
     "text": [
      "11\n"
     ]
    }
   ],
   "source": [
    "class Calculadora():\n",
    "\n",
    "    def __init__(self, num1, num2):\n",
    "        self.num1 = num1\n",
    "        self.num2 = num2\n",
    "    def sumar(self):\n",
    "        return self.num1+self.num2\n",
    "    \n",
    "casio = Calculadora(5,6)\n",
    "\n",
    "print(casio.sumar())"
   ]
  },
  {
   "cell_type": "markdown",
   "metadata": {},
   "source": [
    "## Herencia "
   ]
  },
  {
   "cell_type": "code",
   "execution_count": 79,
   "metadata": {},
   "outputs": [
    {
     "name": "stdout",
     "output_type": "stream",
     "text": [
      "sssssssss\n",
      "me muevo en S\n",
      "liso\n",
      "me arrastro\n"
     ]
    }
   ],
   "source": [
    "class Reptil():\n",
    "    tipo_sangre = \"fria\"\n",
    "    piel = \"escamas\"\n",
    "\n",
    "    def __init__(self):\n",
    "        pass\n",
    "\n",
    "    def caminar(self):\n",
    "        print(\"me arrastro\")\n",
    "\n",
    "\n",
    "class Serpiente(Reptil):\n",
    "    veneno = False\n",
    "    piel = \"liso\"\n",
    "\n",
    "    def hablar(self):\n",
    "        print(\"sssssssss\")\n",
    "    \n",
    "    def caminar(self):\n",
    "        print(\"me muevo en S\")\n",
    "\n",
    "piton = Serpiente()\n",
    "lagarto = Reptil()\n",
    "\n",
    "piton.hablar()\n",
    "piton.caminar()\n",
    "\n",
    "print(piton.piel)\n",
    "\n",
    "lagarto.caminar()"
   ]
  },
  {
   "cell_type": "markdown",
   "metadata": {},
   "source": [
    "## Challenge \n",
    "Definir una clase madre que herede a sus clases hijas dos atributos de instancia. Mostrar ambos atributos en pantalla desde los objetos de las clases hijas.\n",
    "\n",
    "Observación: Editar las clases hijas para que no se inicialicen."
   ]
  },
  {
   "cell_type": "code",
   "execution_count": 4,
   "metadata": {},
   "outputs": [
    {
     "name": "stdout",
     "output_type": "stream",
     "text": [
      "Martina\n",
      "verdes castaño\n"
     ]
    }
   ],
   "source": [
    "class Madre():\n",
    "    def __init__(self, color_pelo, color_ojos):\n",
    "        self.color_pelo = color_pelo\n",
    "        self.color_ojos = color_ojos\n",
    "\n",
    "class Hija1(Madre):\n",
    "    pass\n",
    "\n",
    "class Hija2(Madre):\n",
    "    pass\n",
    "\n",
    "hija1 = Hija1(\"Martina\")\n",
    "hija2 = Hija2(\"castaño\", \"verdes\")\n",
    "\n",
    "print(hija1.nombre)\n",
    "print(hija2.color_ojos, hija2.color_pelo)"
   ]
  }
 ],
 "metadata": {
  "kernelspec": {
   "display_name": "Python 3",
   "language": "python",
   "name": "python3"
  },
  "language_info": {
   "codemirror_mode": {
    "name": "ipython",
    "version": 3
   },
   "file_extension": ".py",
   "mimetype": "text/x-python",
   "name": "python",
   "nbconvert_exporter": "python",
   "pygments_lexer": "ipython3",
   "version": "3.11.3"
  },
  "orig_nbformat": 4
 },
 "nbformat": 4,
 "nbformat_minor": 2
}
