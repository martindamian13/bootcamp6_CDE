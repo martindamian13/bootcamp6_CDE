{
 "cells": [
  {
   "attachments": {},
   "cell_type": "markdown",
   "metadata": {},
   "source": [
    "# Dia 2\n",
    "\n",
    "## Condicionales"
   ]
  },
  {
   "cell_type": "code",
   "execution_count": null,
   "metadata": {},
   "outputs": [],
   "source": [
    "# Operadores de relacion\n",
    "\n",
    "# Menor que ( < )\n",
    "\n",
    "# Menor o igual ( <= )\n",
    "\n",
    "# Mayor que ( > )\n",
    "\n",
    "# Mayor o igual ( >= )\n",
    "\n",
    "# Igual a ( == )\n",
    "\n",
    "# Distinto a ( != )\n"
   ]
  },
  {
   "cell_type": "code",
   "execution_count": 4,
   "metadata": {},
   "outputs": [
    {
     "name": "stdout",
     "output_type": "stream",
     "text": [
      "True\n"
     ]
    }
   ],
   "source": [
    "numero1 = 5\n",
    "numero2 = 7\n",
    "\n",
    "print(numero1 != numero2)"
   ]
  },
  {
   "cell_type": "code",
   "execution_count": 9,
   "metadata": {},
   "outputs": [
    {
     "name": "stdout",
     "output_type": "stream",
     "text": [
      "False\n"
     ]
    }
   ],
   "source": [
    "animal = \"tigre\"\n",
    "mascota = \"tigre\"\n",
    "\n",
    "print(animal == mascota)"
   ]
  },
  {
   "cell_type": "code",
   "execution_count": 11,
   "metadata": {},
   "outputs": [
    {
     "name": "stdout",
     "output_type": "stream",
     "text": [
      "No se cumplio la condicion\n"
     ]
    }
   ],
   "source": [
    "# Condicionales\n",
    "animal = \"tigre\"\n",
    "mascota = \"tigre \"\n",
    "\n",
    "if animal == mascota:\n",
    "    print(\"Son iguales\")\n",
    "else:\n",
    "    print(\"No se cumplio la condicion\")"
   ]
  },
  {
   "cell_type": "code",
   "execution_count": 17,
   "metadata": {},
   "outputs": [
    {
     "name": "stdout",
     "output_type": "stream",
     "text": [
      "Adelante\n"
     ]
    }
   ],
   "source": [
    "edad = 23\n",
    "\n",
    "if edad >= 23:\n",
    "    print(\"Adelante\")\n",
    "else:\n",
    "    print(\"no podes entrar\")"
   ]
  },
  {
   "attachments": {},
   "cell_type": "markdown",
   "metadata": {},
   "source": [
    "## and, or y not"
   ]
  },
  {
   "cell_type": "code",
   "execution_count": 22,
   "metadata": {},
   "outputs": [
    {
     "name": "stdout",
     "output_type": "stream",
     "text": [
      "adelante\n"
     ]
    }
   ],
   "source": [
    "# Si soy nene 23\n",
    "# si soy nena 20\n",
    "\n",
    "sexo = \"f\"\n",
    "edad = 21\n",
    "\n",
    "if edad < 20:\n",
    "    print(\"no podes ingresar\")\n",
    "elif sexo == 'f' and edad >= 20:\n",
    "    print(\"adelante\")\n",
    "elif sexo == 'm' and edad >= 23:\n",
    "    print(\"adelante\")\n",
    "else:\n",
    "    print(\"No podes ingresar\")\n",
    "    "
   ]
  },
  {
   "attachments": {},
   "cell_type": "markdown",
   "metadata": {},
   "source": [
    "### Challenge 🤺 - 20m\n",
    "\n",
    "Escribir un programa en el que se pregunte al usuario por una temperatura (en grados Celsius), imprima la temperatura escrita, y luego clasificar la temperatura ingresada en los siguientes niveles:\n",
    "\n",
    "Entre -10 y 18 grados, que imprima \"Fresquete\".\n",
    "Entre 19 y 30 grados, que imprima \"Calor'i\".\n",
    "Entre 31 y 45 grados, que imprima \"Hakuuuuuu\".\n",
    "Para todo lo demás, imprimir \"Ñamano mba'e!\"."
   ]
  },
  {
   "cell_type": "code",
   "execution_count": null,
   "metadata": {},
   "outputs": [],
   "source": [
    "# preguntar al usuario por la temperatura\n",
    "# imprimir la temperatura ingresada\n",
    "# Si temp es mayor o igual que -10 y temp es menor o igual que 18\n",
    "    # imprimir fresquete\n",
    "# Sino si es mayor o igual que 19 y temp es menor o igual que 30\n",
    "    # imprimir calor'i \n",
    "# Sino si es mayor o igual que 31 y temp es menor o igual que 45\n",
    "    # imprimir hakuuuu\n",
    "# Sino \n",
    "    # imprimir ñamano mba'e\n",
    " \n"
   ]
  },
  {
   "attachments": {},
   "cell_type": "markdown",
   "metadata": {},
   "source": [
    "# Solucion de Jaz 🩷"
   ]
  },
  {
   "cell_type": "code",
   "execution_count": 27,
   "metadata": {},
   "outputs": [
    {
     "name": "stdout",
     "output_type": "stream",
     "text": [
      "La temperatura actual es de -23 grados Celsius\n",
      "Ñamano mba'e!\n"
     ]
    }
   ],
   "source": [
    "temp = int(input(\"Temperatura actual en grados Celsius\"))\n",
    "\n",
    "print(\"La temperatura actual es de\", temp, \"grados Celsius\")\n",
    "\n",
    "if -10 <= temp <= 18:\n",
    "    print(\"Fresquete\")\n",
    "elif 19 <= temp <= 30:\n",
    "    print(\"Calor'i\")\n",
    "elif 31 <= temp <= 45:\n",
    "    print(\"Hakuuuuuu\")\n",
    "else:\n",
    "    print(\"Ñamano mba'e!\")"
   ]
  },
  {
   "attachments": {},
   "cell_type": "markdown",
   "metadata": {},
   "source": [
    "# Solucion de Pai 🐧"
   ]
  },
  {
   "cell_type": "code",
   "execution_count": 36,
   "metadata": {},
   "outputs": [
    {
     "name": "stdout",
     "output_type": "stream",
     "text": [
      "Fresquete\n"
     ]
    }
   ],
   "source": [
    "temp= float(input(\"Ingrese la temperatura actual\"))\n",
    "if temp >= -10 and temp <= 18:\n",
    "    print(\"Fresquete\")\n",
    "elif temp >= 19 and temp <=30:\n",
    "    print(\"Calor'i\")\n",
    "elif temp >= 31 and temp <=45:\n",
    "    print(\"Hakuuuuu\")\n",
    "else:\n",
    "    print(\"Namano mba'e\")"
   ]
  },
  {
   "attachments": {},
   "cell_type": "markdown",
   "metadata": {},
   "source": [
    "# Bucles \n",
    "## Bucles Condicionales"
   ]
  },
  {
   "cell_type": "code",
   "execution_count": 58,
   "metadata": {},
   "outputs": [
    {
     "name": "stdout",
     "output_type": "stream",
     "text": [
      "Buenos dias\n",
      "Buenos dias\n",
      "Buenos dias\n",
      "saliste del bucle\n"
     ]
    }
   ],
   "source": [
    "contador = 0\n",
    "\n",
    "while contador < 3:\n",
    "    print(\"Buenos dias\")\n",
    "    contador = contador + 1\n",
    "\n",
    "print(\"saliste del bucle\")"
   ]
  },
  {
   "cell_type": "code",
   "execution_count": 57,
   "metadata": {},
   "outputs": [
    {
     "name": "stdout",
     "output_type": "stream",
     "text": [
      "Ganaste\n",
      "Ganaste\n",
      "Ganaste\n"
     ]
    }
   ],
   "source": [
    "numero_secreto = 123\n",
    "\n",
    "while True:\n",
    "    numero_ingresado = int(input(\"Ingrese un numero\"))\n",
    "    if numero_ingresado == numero_secreto:\n",
    "        print(\"Ganaste\")\n",
    "        break\n",
    "    else:\n",
    "        print(\"intenta de nuevo\")"
   ]
  },
  {
   "attachments": {},
   "cell_type": "markdown",
   "metadata": {},
   "source": [
    "### Challenge 🤺 - 20m\n",
    "Escribir un programa que almacene una contraseña en una variable, y pregunte al usuario por la contraseña hasta que introduzca la contraseña correcta.\n",
    "\n",
    "Cuando el usuario ingrese la contrasena correcta, imprimir un mensaje secreto."
   ]
  },
  {
   "cell_type": "code",
   "execution_count": null,
   "metadata": {},
   "outputs": [],
   "source": [
    "contador = 1 \n",
    "while contador <= 3:\n",
    "    print(contador)\n",
    "    contador = contador + 1\n",
    "print(\"Programa terminado\")"
   ]
  },
  {
   "attachments": {},
   "cell_type": "markdown",
   "metadata": {},
   "source": [
    "# Solucion de Mateo 😎"
   ]
  },
  {
   "cell_type": "code",
   "execution_count": 59,
   "metadata": {},
   "outputs": [
    {
     "name": "stdout",
     "output_type": "stream",
     "text": [
      "Contra incorrecta\n",
      "Contra incorrecta\n",
      "Lograste acceder\n"
     ]
    }
   ],
   "source": [
    "contrasena = \"niidea2\"\n",
    "\n",
    "while True:\n",
    "    contrasena_ingresada = input(\"Ingresa la contra\")\n",
    "    if contrasena_ingresada == contrasena:\n",
    "        print(\"Lograste acceder\")\n",
    "        break\n",
    "    elif contrasena_ingresada != contrasena:\n",
    "        print(\"Contra incorrecta\")"
   ]
  },
  {
   "attachments": {},
   "cell_type": "markdown",
   "metadata": {},
   "source": [
    "# Solucion de Liz ⭐️"
   ]
  },
  {
   "cell_type": "code",
   "execution_count": 60,
   "metadata": {},
   "outputs": [
    {
     "name": "stdout",
     "output_type": "stream",
     "text": [
      "Clave Incorrecta.\n",
      "Clave Incorrecta.\n",
      "Yupi. Clave Correcta! :)\n"
     ]
    }
   ],
   "source": [
    "#contraseña\n",
    "\n",
    "clave = \"lichi\" #clave de contraseña\n",
    "contraseña = input(\"Ingrese la contraseña: \")\n",
    "\n",
    "while True:\n",
    "    if contraseña==clave:  #condicion si la contraseña es correcta\n",
    "        print(\"Yupi. Clave Correcta! :)\")\n",
    "        break #para de recibir el mensaje de solicitud de contraseña si es correcta\n",
    "\n",
    "    else:   #si no es correcta la contraseña vuelve a solicitar al usuario\n",
    "        print(\"Clave Incorrecta.\") \n",
    "        contraseña = input(\"Ingrese la contraseñaAAAAA :(\")"
   ]
  },
  {
   "attachments": {},
   "cell_type": "markdown",
   "metadata": {},
   "source": [
    "# Solucion de Fernando 🦇"
   ]
  },
  {
   "cell_type": "code",
   "execution_count": 62,
   "metadata": {},
   "outputs": [
    {
     "name": "stdout",
     "output_type": "stream",
     "text": [
      "Fallaste\n",
      "Fallaste\n",
      "Fallaste\n",
      "Fallaste\n",
      "Acceso permitido\n"
     ]
    }
   ],
   "source": [
    "contraseña = 321\n",
    "contraseña_ingresada = int(input(\"ingrese la contraseña\"))\n",
    "\n",
    "while contraseña != contraseña_ingresada:\n",
    "    contraseña_ingresada = int(input(\"ingrese la contraseña\"))\n",
    "    print(\"Fallaste\")\n",
    "    if contraseña_ingresada == 321:\n",
    "        print(\"Acceso permitido\")"
   ]
  },
  {
   "cell_type": "code",
   "execution_count": 63,
   "metadata": {},
   "outputs": [
    {
     "name": "stdout",
     "output_type": "stream",
     "text": [
      "Intenta de nuevo\n",
      "Pista 1 = comida\n",
      "Pista 2 = Brasil\n",
      "Pista 3 = Jauense\n",
      "Perdeu kp\n",
      "Perdeu kp\n",
      "Perdeu kp\n"
     ]
    }
   ],
   "source": [
    "password = \"coixinha\"\n",
    "contador = 0\n",
    "pista = \"Intenta de nuevo\"\n",
    "\n",
    "\n",
    "\n",
    "while True:\n",
    "    intento = str(input(\"Ingrese la contraseña\"))\n",
    "    if intento == password :\n",
    "        print(\"Mensaje secreto xd\")\n",
    "        break\n",
    "    else:\n",
    "        print(pista)\n",
    "        contador = contador + 1\n",
    "        if contador == 1:\n",
    "             pista = \"Pista 1 = comida\"\n",
    "        elif contador == 2:\n",
    "              pista = \"Pista 2 = Brasil\"\n",
    "        elif contador == 3:\n",
    "              pista = \"Pista 3 = Jauense\"\n",
    "        elif contador == 4:\n",
    "             pista = \"Perdeu kp\"\n",
    "        elif contador > 6 :\n",
    "             break"
   ]
  },
  {
   "attachments": {},
   "cell_type": "markdown",
   "metadata": {},
   "source": [
    "# Lista"
   ]
  },
  {
   "cell_type": "code",
   "execution_count": 78,
   "metadata": {},
   "outputs": [
    {
     "name": "stdout",
     "output_type": "stream",
     "text": [
      "<class 'str'>\n",
      "1234123534\n",
      "Nombre: Martin Quintana, edad es de 24, y mide 1.79 mts.\n"
     ]
    }
   ],
   "source": [
    "# Creamos una lista\n",
    "lista_supermercado = [\"queso\", \"leche\", \"pan\", \"coca-cola\"]\n",
    "# imprimimos los elementos usando la posicion\n",
    "print(type(lista_supermercado[0]))\n",
    "\n",
    "lista_numeros = [5, 3, 5, 6 ,12, 1234123534]\n",
    "print(lista_numeros[5])\n",
    "\n",
    "nombre = \"Martin\"\n",
    "\n",
    "contacto = [nombre , \"Quintana\", 24, True, 1.79]\n",
    "print(f\"Nombre: {contacto[0]} {contacto[1]}, edad es de {contacto[2]}, y mide {contacto[4]} mts.\")\n",
    "\n",
    "\n"
   ]
  },
  {
   "cell_type": "code",
   "execution_count": 92,
   "metadata": {},
   "outputs": [
    {
     "name": "stdout",
     "output_type": "stream",
     "text": [
      "[]\n",
      "['Manzanas', 'Bananas', 'Naranjas']\n",
      "['Manzanas', 'Bananas', 'Sandias']\n",
      "['Bananas', 'Sandias']\n",
      "['Bananas']\n",
      "Bananas\n"
     ]
    }
   ],
   "source": [
    "lista_frutas = []\n",
    "print(lista_frutas)\n",
    "\n",
    "# Agregar datos a una lista\n",
    "lista_frutas.append(\"Manzanas\")\n",
    "lista_frutas.append(\"Bananas\")\n",
    "lista_frutas.append(\"Naranjas\")\n",
    "# fruta_ingresada = input(\"ingresa una fruta\")\n",
    "# lista_frutas.append(fruta_ingresada)\n",
    "print(lista_frutas)\n",
    "\n",
    "# Modificar datos\n",
    "lista_frutas[2] = \"Sandias\"\n",
    "print(lista_frutas)\n",
    "\n",
    "# Eliminar datos de una lista\n",
    "# Usando la posicion\n",
    "lista_frutas.pop(0)\n",
    "print(lista_frutas)\n",
    "\n",
    "# Usando el valor del elemento\n",
    "lista_frutas.remove(\"Sandias\")\n",
    "print(lista_frutas)\n",
    "\n",
    "\n",
    "# Acceder a los datos de una lista\n",
    "print(lista_frutas[0])\n"
   ]
  },
  {
   "attachments": {},
   "cell_type": "markdown",
   "metadata": {},
   "source": [
    "### Challenge 🤺 - 20m\n",
    "\n",
    "Crear una lista de 5 elementos. Luego, seguir los siguientes pasos.\n",
    "\n",
    "- Agregar un elemento al final de la lista.\n",
    "\n",
    "- Modificar el segundo elemento.\n",
    "\n",
    "- Eliminar el tercer elemento.\n",
    "\n",
    "OBS: Imprimir la lista en cada paso ejecutado."
   ]
  },
  {
   "attachments": {},
   "cell_type": "markdown",
   "metadata": {},
   "source": [
    "# Solucion de Sandra 🍃"
   ]
  },
  {
   "cell_type": "code",
   "execution_count": 94,
   "metadata": {},
   "outputs": [
    {
     "name": "stdout",
     "output_type": "stream",
     "text": [
      "['lapices', 'borrador', 'sacapuntas', 'marcadores', 'cuaderno']\n",
      "['lapices', 'borrador', 'sacapuntas', 'marcadores', 'cuaderno', 'cartulina']\n",
      "['lapices', 'cartulinas', 'sacapuntas', 'marcadores', 'cuaderno', 'cartulina']\n",
      "['lapices', 'cartulinas', 'marcadores', 'cuaderno', 'cartulina']\n"
     ]
    }
   ],
   "source": [
    "lista_utiles = [\"lapices\", \"borrador\", \"sacapuntas\", \"marcadores\", \"cuaderno\"]\n",
    "print(lista_utiles)\n",
    "\n",
    "lista_utiles.append (\"cartulina\") # Agregar un elemento al final de la lista\n",
    "print(lista_utiles)\n",
    "\n",
    "lista_utiles[1] = \"cartulinas\" # Modificar el segundo elemento de la lista \n",
    "print(lista_utiles)\n",
    "\n",
    "lista_utiles.pop(2) # Eliminar el tercer elemento\n",
    "print(lista_utiles)"
   ]
  },
  {
   "attachments": {},
   "cell_type": "markdown",
   "metadata": {},
   "source": [
    "# Solucion de Leila 🦎"
   ]
  },
  {
   "cell_type": "code",
   "execution_count": 95,
   "metadata": {},
   "outputs": [
    {
     "name": "stdout",
     "output_type": "stream",
     "text": [
      "['natacion', 'futbol', 'basket', 'golf', 'judo']\n",
      "['natacion', 'futbol', 'basket', 'golf', 'judo', 'taekwondo']\n",
      "['natacion', 'ciclismo', 'basket', 'golf', 'judo', 'taekwondo']\n",
      "['natacion', 'ciclismo', 'golf', 'judo', 'taekwondo']\n"
     ]
    }
   ],
   "source": [
    "#crear una lista con 5 elementos\n",
    "\n",
    "lista_deportes = [\"natacion\", \"futbol\", \"basket\", \"golf\", \"judo\"]\n",
    "\n",
    "print(lista_deportes)\n",
    "\n",
    "#agregar un elemento\n",
    "\n",
    "lista_deportes.append(\"taekwondo\")\n",
    "print(lista_deportes)\n",
    "\n",
    "#modificar el segundo elemento\n",
    "lista_deportes[1] = \"ciclismo\"\n",
    "print(lista_deportes)\n",
    "\n",
    "#eliminar el tercer elemento\n",
    "lista_deportes.pop(2)\n",
    "print(lista_deportes)"
   ]
  },
  {
   "cell_type": "code",
   "execution_count": 98,
   "metadata": {},
   "outputs": [
    {
     "name": "stdout",
     "output_type": "stream",
     "text": [
      "hola\n"
     ]
    }
   ],
   "source": [
    "lista1 = ['martin', 'damian']\n",
    "\n",
    "lista2 = [lista1, ['hola', 'que tal']]\n",
    "\n",
    "print(lista2[1][0])"
   ]
  },
  {
   "attachments": {},
   "cell_type": "markdown",
   "metadata": {},
   "source": [
    "## Bucles Iterativos"
   ]
  },
  {
   "cell_type": "code",
   "execution_count": 103,
   "metadata": {},
   "outputs": [
    {
     "name": "stdout",
     "output_type": "stream",
     "text": [
      "0\n",
      "1\n",
      "2\n"
     ]
    }
   ],
   "source": [
    "for iterador in range(3):\n",
    "    print(iterador)"
   ]
  },
  {
   "attachments": {},
   "cell_type": "markdown",
   "metadata": {},
   "source": [
    "### Challenge 🤺 - 10min\n",
    "\n",
    "Escribir un programa que itere en un rango de 10 veces. Por cada iteracion multiplicar el iterador por dos e imprimir el resultado."
   ]
  },
  {
   "cell_type": "code",
   "execution_count": 105,
   "metadata": {},
   "outputs": [
    {
     "name": "stdout",
     "output_type": "stream",
     "text": [
      "0\n",
      "2\n",
      "4\n",
      "6\n",
      "8\n",
      "10\n",
      "12\n",
      "14\n",
      "16\n",
      "18\n"
     ]
    }
   ],
   "source": [
    "for iterador in range(10):\n",
    "    print(iterador * 2)"
   ]
  },
  {
   "cell_type": "code",
   "execution_count": 110,
   "metadata": {},
   "outputs": [
    {
     "name": "stdout",
     "output_type": "stream",
     "text": [
      "martin\n",
      "ivana\n",
      "giovanna\n",
      "fernando\n",
      "nando\n",
      "fer\n",
      "jere\n"
     ]
    }
   ],
   "source": [
    "lista_nombres = ['martin', 'ivana', 'giovanna', 'fernando', 'nando', 'fer', 'jere']\n",
    "\n",
    "for nombre in lista_nombres:\n",
    "    print(nombre)\n",
    "\n",
    "\n",
    "\n",
    "\n"
   ]
  },
  {
   "cell_type": "code",
   "execution_count": 113,
   "metadata": {},
   "outputs": [
    {
     "name": "stdout",
     "output_type": "stream",
     "text": [
      "M\n",
      "a\n",
      "r\n",
      "t\n",
      "i\n",
      "n\n"
     ]
    }
   ],
   "source": [
    "nombre = \"Martin\"\n",
    "\n",
    "for letra in nombre:\n",
    "    print(letra)"
   ]
  },
  {
   "cell_type": "code",
   "execution_count": 121,
   "metadata": {},
   "outputs": [
    {
     "name": "stdout",
     "output_type": "stream",
     "text": [
      "True\n"
     ]
    }
   ],
   "source": [
    "nombre = \"Martin\"\n",
    "\n",
    "print('a' in nombre)"
   ]
  },
  {
   "attachments": {},
   "cell_type": "markdown",
   "metadata": {},
   "source": [
    "### Challenge 🤺 - 20m\n",
    "\n",
    "Escribir un programa en el que se pregunte al usuario por una frase y una letra, y muestre por pantalla el número de veces que aparece la letra en la frase."
   ]
  },
  {
   "attachments": {},
   "cell_type": "markdown",
   "metadata": {},
   "source": [
    "# Solucion de Jose 🤯"
   ]
  },
  {
   "cell_type": "code",
   "execution_count": 122,
   "metadata": {},
   "outputs": [
    {
     "name": "stdout",
     "output_type": "stream",
     "text": [
      "Hay 2 letras a en la frase:\n",
      "hola que tal\n"
     ]
    }
   ],
   "source": [
    "frase= input(\"Bienvenido a nuestro contador de letras. ¿Podrías escribir una frase?\") # El usuario ingresa la frase\n",
    "letra= input(\"Bien. ¿Podría ingresar una letra para contar cuantas hay?\") # El usuario ingresa una letra\n",
    "contador= 0 # Se crea un contador y se lo define con valor 0 para que cada vez que se use el programa, cuente desde 0\n",
    "\n",
    "for iterador in frase: # Se recorre las letras de la frase\n",
    "    if letra == iterador: # Cada vez que se recorra, se va a preguntar: la frase que recorrí ahora, es igual a la letra ingresada?\n",
    "        contador += 1 # Si es que se cumple la condicional, el contador suma +1\n",
    "\n",
    "# Se imprime el resultado\n",
    "print(\"Hay\", contador, \"letras\", letra, \"en la frase:\")\n",
    "print(frase)"
   ]
  },
  {
   "attachments": {},
   "cell_type": "markdown",
   "metadata": {},
   "source": [
    "# Solucion de Oscar 🤺"
   ]
  },
  {
   "cell_type": "code",
   "execution_count": 123,
   "metadata": {},
   "outputs": [
    {
     "name": "stdout",
     "output_type": "stream",
     "text": [
      "2\n"
     ]
    }
   ],
   "source": [
    "frase = input(\"escribe la frase\")\n",
    "letra = input(\"escribe la letra\")\n",
    "contador = 0\n",
    "for caracter in frase:\n",
    "    if caracter == letra:\n",
    "        contador += 1 \n",
    "print(contador)"
   ]
  }
 ],
 "metadata": {
  "kernelspec": {
   "display_name": "Python 3",
   "language": "python",
   "name": "python3"
  },
  "language_info": {
   "codemirror_mode": {
    "name": "ipython",
    "version": 3
   },
   "file_extension": ".py",
   "mimetype": "text/x-python",
   "name": "python",
   "nbconvert_exporter": "python",
   "pygments_lexer": "ipython3",
   "version": "3.11.3"
  },
  "orig_nbformat": 4
 },
 "nbformat": 4,
 "nbformat_minor": 2
}
